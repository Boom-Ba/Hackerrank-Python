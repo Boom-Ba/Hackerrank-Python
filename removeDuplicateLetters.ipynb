{
  "nbformat": 4,
  "nbformat_minor": 0,
  "metadata": {
    "colab": {
      "name": "removeDuplicateLetters.ipynb",
      "provenance": [],
      "authorship_tag": "ABX9TyNKKzRvqTs+u1IkXJbwLQ/X",
      "include_colab_link": true
    },
    "kernelspec": {
      "name": "python3",
      "display_name": "Python 3"
    },
    "language_info": {
      "name": "python"
    }
  },
  "cells": [
    {
      "cell_type": "markdown",
      "metadata": {
        "id": "view-in-github",
        "colab_type": "text"
      },
      "source": [
        "<a href=\"https://colab.research.google.com/github/Boom-Ba/Hackerrank-Python/blob/master/removeDuplicateLetters.ipynb\" target=\"_parent\"><img src=\"https://colab.research.google.com/assets/colab-badge.svg\" alt=\"Open In Colab\"/></a>"
      ]
    },
    {
      "cell_type": "code",
      "metadata": {
        "id": "mODl8W9Be475"
      },
      "source": [
        "class Solution:\n",
        "    def removeDuplicateLetters(self, s: str) -> str:\n",
        "        # Monotonic Stack\n",
        "        # \"cbacdcbc\"\n",
        "        #1. cbad\n",
        "        #2. bacd\n",
        "        #3. adcb\n",
        "        #4. adbc\n",
        "        #5. acdb\n",
        "        \n",
        "        last_occ= {c:i for i, c in enumerate(s)}\n",
        "        \n",
        "        stack=['!']\n",
        "        visited=set()\n",
        "        for index, c in enumerate(s):\n",
        "            \n",
        "            if c in visited: continue\n",
        "            \n",
        "            while  stack[-1]>c and last_occ[stack[-1]]>index:\n",
        "                visited.remove(stack.pop(-1))\n",
        "            \n",
        "            stack.append(c)\n",
        "            visited.add(c)\n",
        "        \n",
        "        return ''.join(stack[1:])\n",
        "        \n",
        "        "
      ],
      "execution_count": null,
      "outputs": []
    }
  ]
}