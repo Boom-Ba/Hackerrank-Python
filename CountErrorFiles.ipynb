{
  "nbformat": 4,
  "nbformat_minor": 0,
  "metadata": {
    "colab": {
      "name": "CountErrorFiles.ipynb",
      "provenance": [],
      "authorship_tag": "ABX9TyM8TjYwVcmXMKbRv+ho5Rf0",
      "include_colab_link": true
    },
    "kernelspec": {
      "name": "python3",
      "display_name": "Python 3"
    }
  },
  "cells": [
    {
      "cell_type": "markdown",
      "metadata": {
        "id": "view-in-github",
        "colab_type": "text"
      },
      "source": [
        "<a href=\"https://colab.research.google.com/github/Boom-Ba/Hackerrank-Python/blob/master/CountErrorFiles.ipynb\" target=\"_parent\"><img src=\"https://colab.research.google.com/assets/colab-badge.svg\" alt=\"Open In Colab\"/></a>"
      ]
    },
    {
      "cell_type": "code",
      "metadata": {
        "id": "7JGpUApSdk9Q"
      },
      "source": [
        "d= {}\n",
        "files= []\n",
        "while True:\n",
        "    try:\n",
        "    #E:\\V1R2\\product\\fpgadrive.c   1325\n",
        "        doc= input().split()\n",
        "        file, rows= doc[0], doc[1]\n",
        "    #E:\\V1R2\\product\\fpgadrive.c \n",
        "        for i in range(len(file)-1,-1,-1):\n",
        "            if file[i] =='\\\\':\n",
        "                file =file[i+1:]\n",
        "                break\n",
        "        if len(file)>16:\n",
        "            file =file[-16:]\n",
        "        lst =[file, rows]\n",
        "        k = ' '.join(lst)\n",
        "        if k not in d.keys():\n",
        "            d[k]=1\n",
        "            files.append(k)\n",
        "        else:\n",
        "            d[k]+=1\n",
        "    except:\n",
        "        break\n",
        "if len(files)>=8:\n",
        "    files= files[-8:]\n",
        "for i in files:\n",
        "    print(i,d[i])\n",
        "        "
      ],
      "execution_count": null,
      "outputs": []
    }
  ]
}