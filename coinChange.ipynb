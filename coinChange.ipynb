{
  "nbformat": 4,
  "nbformat_minor": 0,
  "metadata": {
    "colab": {
      "name": "coinChange.ipynb",
      "provenance": [],
      "collapsed_sections": [],
      "authorship_tag": "ABX9TyMoWCSUr+Ofp4fzMO3bllxH",
      "include_colab_link": true
    },
    "kernelspec": {
      "name": "python3",
      "display_name": "Python 3"
    }
  },
  "cells": [
    {
      "cell_type": "markdown",
      "metadata": {
        "id": "view-in-github",
        "colab_type": "text"
      },
      "source": [
        "<a href=\"https://colab.research.google.com/github/Boom-Ba/Hackerrank-Python/blob/master/coinChange.ipynb\" target=\"_parent\"><img src=\"https://colab.research.google.com/assets/colab-badge.svg\" alt=\"Open In Colab\"/></a>"
      ]
    },
    {
      "cell_type": "code",
      "metadata": {
        "id": "BxtkWfV31X94",
        "colab_type": "code",
        "colab": {}
      },
      "source": [
        "class Solution:\n",
        "    def coinChange(self, coins: List[int], amount: int) -> int:\n",
        "        dp = [float(\"inf\")] * (amount + 1) \n",
        "        dp[0] = 0                           \n",
        "\n",
        "        for i in coins:\n",
        "            for j in range(i, amount + 1):\n",
        "                dp[j] = min(dp[j], dp[j - i] + 1)\n",
        "\n",
        "        return dp[-1] if dp[-1] != float(\"inf\") else -1\n",
        "\n"
      ],
      "execution_count": null,
      "outputs": []
    }
  ]
}