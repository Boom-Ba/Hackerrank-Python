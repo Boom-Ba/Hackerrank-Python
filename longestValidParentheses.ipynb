{
  "nbformat": 4,
  "nbformat_minor": 0,
  "metadata": {
    "colab": {
      "name": "longestValidParentheses",
      "provenance": [],
      "collapsed_sections": [],
      "authorship_tag": "ABX9TyPvZ3arbMv1t3pav36cj0xn",
      "include_colab_link": true
    },
    "kernelspec": {
      "name": "python3",
      "display_name": "Python 3"
    }
  },
  "cells": [
    {
      "cell_type": "markdown",
      "metadata": {
        "id": "view-in-github",
        "colab_type": "text"
      },
      "source": [
        "<a href=\"https://colab.research.google.com/github/Boom-Ba/Hackerrank-Python/blob/master/longestValidParentheses.ipynb\" target=\"_parent\"><img src=\"https://colab.research.google.com/assets/colab-badge.svg\" alt=\"Open In Colab\"/></a>"
      ]
    },
    {
      "cell_type": "code",
      "metadata": {
        "id": "BxtkWfV31X94",
        "colab_type": "code",
        "colab": {}
      },
      "source": [
        "class Solution:\n",
        "    def longestValidParentheses(self, s: str) -> int:\n",
        "        count =0\n",
        "        dp =[0]*(len(s)+1)\n",
        "        stack =[]\n",
        "        for i, c in enumerate(s):\n",
        "            if c=='(':\n",
        "                stack.append(i)\n",
        "            elif stack: #')'\n",
        "                idx=stack.pop()\n",
        "                dp[i+1]=dp[idx] +2+dp[i]\n",
        "                #\" () ( () )\"\n",
        "                #  01 2 34 5\n",
        "        return max(dp)\n",
        "            "
      ],
      "execution_count": null,
      "outputs": []
    }
  ]
}