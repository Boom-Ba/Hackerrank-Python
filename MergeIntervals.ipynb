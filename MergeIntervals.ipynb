{
  "nbformat": 4,
  "nbformat_minor": 0,
  "metadata": {
    "colab": {
      "name": "MergeIntervals",
      "provenance": [],
      "collapsed_sections": [],
      "authorship_tag": "ABX9TyPxQL2kQc4C4k9Oj50oC56U",
      "include_colab_link": true
    },
    "kernelspec": {
      "name": "python3",
      "display_name": "Python 3"
    }
  },
  "cells": [
    {
      "cell_type": "markdown",
      "metadata": {
        "id": "view-in-github",
        "colab_type": "text"
      },
      "source": [
        "<a href=\"https://colab.research.google.com/github/Boom-Ba/Hackerrank-Python/blob/master/MergeIntervals.ipynb\" target=\"_parent\"><img src=\"https://colab.research.google.com/assets/colab-badge.svg\" alt=\"Open In Colab\"/></a>"
      ]
    },
    {
      "cell_type": "code",
      "metadata": {
        "id": "BxtkWfV31X94",
        "colab_type": "code",
        "colab": {}
      },
      "source": [
        "class Solution:\n",
        "    def merge(self, intervals: List[List[int]]) -> List[List[int]]:\n",
        "        \n",
        "        #[1 3] [2 6]\n",
        "        \n",
        "        intervals.sort(key = lambda x: x[0])\n",
        "        result =[]\n",
        "        for i in intervals:\n",
        "            if not result or result[-1][1] <i[0]:\n",
        "                result.append(i)\n",
        "            else:\n",
        "                result[-1][1]=max(result[-1][1], i[1])\n",
        "        return result"
      ],
      "execution_count": null,
      "outputs": []
    }
  ]
}