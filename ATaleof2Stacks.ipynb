{
  "nbformat": 4,
  "nbformat_minor": 0,
  "metadata": {
    "colab": {
      "name": "ATaleof2Stacks.ipynb",
      "provenance": [],
      "collapsed_sections": [],
      "authorship_tag": "ABX9TyPqudlc9IG+4zk45BIIza9w",
      "include_colab_link": true
    },
    "kernelspec": {
      "name": "python3",
      "display_name": "Python 3"
    }
  },
  "cells": [
    {
      "cell_type": "markdown",
      "metadata": {
        "id": "view-in-github",
        "colab_type": "text"
      },
      "source": [
        "<a href=\"https://colab.research.google.com/github/Boom-Ba/Hackerrank-Python/blob/master/ATaleof2Stacks.ipynb\" target=\"_parent\"><img src=\"https://colab.research.google.com/assets/colab-badge.svg\" alt=\"Open In Colab\"/></a>"
      ]
    },
    {
      "cell_type": "code",
      "metadata": {
        "id": "BxtkWfV31X94",
        "colab_type": "code",
        "colab": {}
      },
      "source": [
        "class MyQueue(object):\n",
        "    def __init__(self):\n",
        "        self.s1= []\n",
        "        self.s2= []\n",
        "    def stackshift(self):\n",
        "        if len(self.s1) ==0:\n",
        "            for i in range(len(self.s2)-1,-1,-1):\n",
        "                item = self.s2.pop(i)\n",
        "                self.s1.append(item)\n",
        "             \n",
        "    def peek(self):\n",
        "        self.stackshift()\n",
        "        assert len(self.s1)>0 #shifted\n",
        "        return self.s1[-1]\n",
        "\n",
        "    def pop(self):\n",
        "        self.stackshift()\n",
        "        assert len(self.s1)>0 #shifted\n",
        "        return self.s1.pop()\n",
        "\n",
        "    def put(self, value):\n",
        "        self.s2.append(value)\n",
        "        \n",
        "queue = MyQueue()\n",
        "t = int(input())\n",
        "for line in range(t):\n",
        "    values = map(int, input().split())\n",
        "    values = list(values)\n",
        "    if values[0] == 1:\n",
        "        queue.put(values[1])        \n",
        "    elif values[0] == 2:\n",
        "        queue.pop()\n",
        "    else:\n",
        "        print(queue.peek())\n"
      ],
      "execution_count": null,
      "outputs": []
    }
  ]
}