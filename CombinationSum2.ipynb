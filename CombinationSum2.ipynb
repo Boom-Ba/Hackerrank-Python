{
  "nbformat": 4,
  "nbformat_minor": 0,
  "metadata": {
    "colab": {
      "name": "CombinationSum2.ipynb",
      "provenance": [],
      "authorship_tag": "ABX9TyNO78FfFFHKlBrwFJWJwN9t",
      "include_colab_link": true
    },
    "kernelspec": {
      "name": "python3",
      "display_name": "Python 3"
    },
    "language_info": {
      "name": "python"
    }
  },
  "cells": [
    {
      "cell_type": "markdown",
      "metadata": {
        "id": "view-in-github",
        "colab_type": "text"
      },
      "source": [
        "<a href=\"https://colab.research.google.com/github/Boom-Ba/Hackerrank-Python/blob/master/CombinationSum2.ipynb\" target=\"_parent\"><img src=\"https://colab.research.google.com/assets/colab-badge.svg\" alt=\"Open In Colab\"/></a>"
      ]
    },
    {
      "cell_type": "code",
      "metadata": {
        "id": "IWAh54px5UT-"
      },
      "source": [
        "class Solution:\n",
        "    def combinationSum2(self, candidates: List[int], target: int) -> List[List[int]]:\n",
        "        res=[]\n",
        "        candidates.sort()\n",
        "        def bt(curr, index, target):\n",
        "            if target==0: res.append(curr[:])\n",
        "            if target<0: return\n",
        "            prev=-1\n",
        "            for i in range(index, len(candidates)):\n",
        "                if candidates[i]==prev: continue\n",
        "                curr.append(candidates[i])\n",
        "                bt(curr,i+1, target-candidates[i])\n",
        "                curr.pop()\n",
        "                prev=candidates[i]\n",
        "        bt([],0,target)\n",
        "        return res\n"
      ],
      "execution_count": 1,
      "outputs": []
    },
    {
      "cell_type": "code",
      "metadata": {
        "id": "dDOpGfbuCEo_"
      },
      "source": [
        ""
      ],
      "execution_count": null,
      "outputs": []
    }
  ]
}