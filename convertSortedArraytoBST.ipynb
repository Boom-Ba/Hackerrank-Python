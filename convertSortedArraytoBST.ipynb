{
  "nbformat": 4,
  "nbformat_minor": 0,
  "metadata": {
    "colab": {
      "name": "convertSortedArraytoBST.ipynb",
      "provenance": [],
      "collapsed_sections": [],
      "authorship_tag": "ABX9TyPMVM17Tz9YLd5scb68+6IF",
      "include_colab_link": true
    },
    "kernelspec": {
      "name": "python3",
      "display_name": "Python 3"
    }
  },
  "cells": [
    {
      "cell_type": "markdown",
      "metadata": {
        "id": "view-in-github",
        "colab_type": "text"
      },
      "source": [
        "<a href=\"https://colab.research.google.com/github/Boom-Ba/Hackerrank-Python/blob/master/convertSortedArraytoBST.ipynb\" target=\"_parent\"><img src=\"https://colab.research.google.com/assets/colab-badge.svg\" alt=\"Open In Colab\"/></a>"
      ]
    },
    {
      "cell_type": "code",
      "metadata": {
        "id": "BxtkWfV31X94",
        "colab_type": "code",
        "colab": {}
      },
      "source": [
        "# Definition for a binary tree node.\n",
        "# class TreeNode:\n",
        "#     def __init__(self, val=0, left=None, right=None):\n",
        "#         self.val = val\n",
        "#         self.left = left\n",
        "#         self.right = right\n",
        "class Solution:\n",
        "    def sortedArrayToBST(self, nums: List[int]) -> TreeNode:\n",
        "        def help(nums):\n",
        "            if not nums:\n",
        "                return \n",
        "            m=(len(nums)-1)//2\n",
        "            root=TreeNode(nums[m])\n",
        "            root.left=help(nums[:m])\n",
        "            root.right =help(nums[m+1:])\n",
        "            return root\n",
        "        return help(nums)\n",
        "\n"
      ],
      "execution_count": null,
      "outputs": []
    }
  ]
}