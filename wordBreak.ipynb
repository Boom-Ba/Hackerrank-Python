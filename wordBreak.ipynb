{
  "nbformat": 4,
  "nbformat_minor": 0,
  "metadata": {
    "colab": {
      "name": "wordBreak",
      "provenance": [],
      "collapsed_sections": [],
      "authorship_tag": "ABX9TyM1UFLxojXhtiqUqEUtqQPj",
      "include_colab_link": true
    },
    "kernelspec": {
      "name": "python3",
      "display_name": "Python 3"
    }
  },
  "cells": [
    {
      "cell_type": "markdown",
      "metadata": {
        "id": "view-in-github",
        "colab_type": "text"
      },
      "source": [
        "<a href=\"https://colab.research.google.com/github/Boom-Ba/Hackerrank-Python/blob/master/wordBreak.ipynb\" target=\"_parent\"><img src=\"https://colab.research.google.com/assets/colab-badge.svg\" alt=\"Open In Colab\"/></a>"
      ]
    },
    {
      "cell_type": "code",
      "metadata": {
        "id": "BxtkWfV31X94",
        "colab_type": "code",
        "colab": {}
      },
      "source": [
        "class Solution:\n",
        "    def wordBreak(self, s: str, wordDict: List[str]) -> bool:\n",
        "        dp=[False]*(len(s)+1)\n",
        "        dp[0]=True\n",
        "        for i in range(len(s)+1):\n",
        "            for j in range(i):\n",
        "                if dp[j] or s[j:i] in wordDict:\n",
        "                    dp[i]=True\n",
        "        return dp[-1]\n",
        "        "
      ],
      "execution_count": null,
      "outputs": []
    }
  ]
}