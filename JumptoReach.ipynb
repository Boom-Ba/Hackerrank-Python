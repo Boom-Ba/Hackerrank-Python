{
  "nbformat": 4,
  "nbformat_minor": 0,
  "metadata": {
    "colab": {
      "name": "JumptoReach.ipynb",
      "provenance": [],
      "authorship_tag": "ABX9TyOiWAy0fS1gN7p+t0uHPvmQ",
      "include_colab_link": true
    },
    "kernelspec": {
      "name": "python3",
      "display_name": "Python 3"
    },
    "language_info": {
      "name": "python"
    }
  },
  "cells": [
    {
      "cell_type": "markdown",
      "metadata": {
        "id": "view-in-github",
        "colab_type": "text"
      },
      "source": [
        "<a href=\"https://colab.research.google.com/github/Boom-Ba/Hackerrank-Python/blob/master/JumptoReach.ipynb\" target=\"_parent\"><img src=\"https://colab.research.google.com/assets/colab-badge.svg\" alt=\"Open In Colab\"/></a>"
      ]
    },
    {
      "cell_type": "code",
      "metadata": {
        "id": "uowh3GfMHXEB"
      },
      "source": [
        "class Solution:\n",
        "    def canReach(self, arr: List[int], start: int) -> bool:\n",
        "      #arr = [4,2,3,0,3,1,2], start = 5 if can reach 0 in arr \n",
        "        if 0<=start<len(arr) and arr[start]>=0:\n",
        "            #visited\n",
        "            arr[start]=-arr[start]\n",
        "            \n",
        "            return arr[start]==0 or self.canReach(arr, start+arr[start]) or self.canReach(arr, start-arr[start])\n",
        "        return False"
      ],
      "execution_count": null,
      "outputs": []
    }
  ]
}