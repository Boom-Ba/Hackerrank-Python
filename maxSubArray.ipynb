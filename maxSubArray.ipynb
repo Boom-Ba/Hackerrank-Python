{
  "nbformat": 4,
  "nbformat_minor": 0,
  "metadata": {
    "colab": {
      "name": "maxSubArray.ipynb",
      "provenance": [],
      "authorship_tag": "ABX9TyMmE/kEpFibQoZpMqKSnGh8",
      "include_colab_link": true
    },
    "kernelspec": {
      "name": "python3",
      "display_name": "Python 3"
    },
    "language_info": {
      "name": "python"
    }
  },
  "cells": [
    {
      "cell_type": "markdown",
      "metadata": {
        "id": "view-in-github",
        "colab_type": "text"
      },
      "source": [
        "<a href=\"https://colab.research.google.com/github/Boom-Ba/Hackerrank-Python/blob/master/maxSubArray.ipynb\" target=\"_parent\"><img src=\"https://colab.research.google.com/assets/colab-badge.svg\" alt=\"Open In Colab\"/></a>"
      ]
    },
    {
      "cell_type": "code",
      "metadata": {
        "id": "mODl8W9Be475"
      },
      "source": [
        "class Solution:\n",
        "    def maxSubArray(self, nums: List[int]) -> int:\n",
        "        #f[i] -> max_subarray include i\n",
        "        #f[i]=f[i-1] + nums[i] \n",
        "        \"\"\"\n",
        "        \n",
        "        [-2,1,-3,4,-1,2,1,-5,4]\n",
        "        -2 1  -2 4 3  5 6  1 5\n",
        "        \"\"\"\n",
        "        if len(nums)<=1:\n",
        "            return sum(nums)\n",
        "        f=[0]*len(nums)\n",
        "        f[0]=nums[0]\n",
        "        for i in range(1,len(nums)):\n",
        "            f[i]=nums[i]+f[i-1] if f[i-1]>0 else nums[i]\n",
        "        return max(f)"
      ],
      "execution_count": null,
      "outputs": []
    }
  ]
}