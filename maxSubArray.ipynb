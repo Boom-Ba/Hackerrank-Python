{
  "nbformat": 4,
  "nbformat_minor": 0,
  "metadata": {
    "colab": {
      "name": "maxSubArray.ipynb",
      "provenance": [],
      "authorship_tag": "ABX9TyOc1vAIgy0bqirYECB0hNb2",
      "include_colab_link": true
    },
    "kernelspec": {
      "name": "python3",
      "display_name": "Python 3"
    }
  },
  "cells": [
    {
      "cell_type": "markdown",
      "metadata": {
        "id": "view-in-github",
        "colab_type": "text"
      },
      "source": [
        "<a href=\"https://colab.research.google.com/github/Boom-Ba/Hackerrank-Python/blob/master/maxSubArray.ipynb\" target=\"_parent\"><img src=\"https://colab.research.google.com/assets/colab-badge.svg\" alt=\"Open In Colab\"/></a>"
      ]
    },
    {
      "cell_type": "code",
      "metadata": {
        "id": "DMx2ax1LqT_-",
        "colab_type": "code",
        "colab": {}
      },
      "source": [
        "class Solution:\n",
        "    def maxSubArray(self, nums: List[int]) -> int:\n",
        "        if not nums:\n",
        "            return -float('inf')\n",
        "        self.maxsum =-float('inf')\n",
        "        max_ending_here =-float('inf')\n",
        "        for i in range(len(nums)):\n",
        "            if max_ending_here<0:\n",
        "                max_ending_here= nums[i]\n",
        "            else:\n",
        "                max_ending_here+=nums[i]\n",
        "            self.maxsum= max(self.maxsum,max_ending_here)\n",
        "        return self.maxsum\n",
        "        "
      ],
      "execution_count": null,
      "outputs": []
    }
  ]
}