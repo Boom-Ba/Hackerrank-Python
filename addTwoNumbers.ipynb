{
  "nbformat": 4,
  "nbformat_minor": 0,
  "metadata": {
    "colab": {
      "name": "addTwoNumbers",
      "provenance": [],
      "collapsed_sections": [],
      "authorship_tag": "ABX9TyMgH8wWk/jpZmerqkOwzyLo",
      "include_colab_link": true
    },
    "kernelspec": {
      "name": "python3",
      "display_name": "Python 3"
    }
  },
  "cells": [
    {
      "cell_type": "markdown",
      "metadata": {
        "id": "view-in-github",
        "colab_type": "text"
      },
      "source": [
        "<a href=\"https://colab.research.google.com/github/Boom-Ba/Hackerrank-Python/blob/master/addTwoNumbers.ipynb\" target=\"_parent\"><img src=\"https://colab.research.google.com/assets/colab-badge.svg\" alt=\"Open In Colab\"/></a>"
      ]
    },
    {
      "cell_type": "code",
      "metadata": {
        "id": "BxtkWfV31X94",
        "colab_type": "code",
        "colab": {}
      },
      "source": [
        "# Definition for singly-linked list.\n",
        "# class ListNode:\n",
        "#     def __init__(self, val=0, next=None):\n",
        "#         self.val = val\n",
        "#         self.next = next\n",
        "class Solution:\n",
        "    def addTwoNumbers(self, l1: ListNode, l2: ListNode) -> ListNode:\n",
        "        if not l1:\n",
        "            return l2\n",
        "        if not l2:\n",
        "            return l1\n",
        "        carry =0\n",
        "        dummy= ListNode(0)\n",
        "        curr=dummy\n",
        "        while l1 or l2:\n",
        "            val1=l1.val if l1 else 0\n",
        "            val2=l2.val if l2 else 0\n",
        "            carry = val1+val2+carry\n",
        "            curr.next= ListNode(carry%10)\n",
        "            carry= carry//10\n",
        "            if l1:\n",
        "                l1=l1.next\n",
        "            if l2:\n",
        "                l2=l2.next\n",
        "            curr=curr.next\n",
        "        if carry:\n",
        "            newN= ListNode(carry%10)\n",
        "            curr.next=newN\n",
        "            curr=curr.next\n",
        "        return dummy.next\n",
        "        "
      ],
      "execution_count": null,
      "outputs": []
    }
  ]
}