{
  "nbformat": 4,
  "nbformat_minor": 0,
  "metadata": {
    "colab": {
      "name": "GraphHasCycle2",
      "provenance": [],
      "authorship_tag": "ABX9TyOIwj4ODsXvHI+8q6pYXy1u",
      "include_colab_link": true
    },
    "kernelspec": {
      "name": "python3",
      "display_name": "Python 3"
    }
  },
  "cells": [
    {
      "cell_type": "markdown",
      "metadata": {
        "id": "view-in-github",
        "colab_type": "text"
      },
      "source": [
        "<a href=\"https://colab.research.google.com/github/Boom-Ba/Hackerrank-Python/blob/master/GraphHasCycle2.ipynb\" target=\"_parent\"><img src=\"https://colab.research.google.com/assets/colab-badge.svg\" alt=\"Open In Colab\"/></a>"
      ]
    },
    {
      "cell_type": "code",
      "metadata": {
        "id": "Q9iYlpC-zU9_",
        "colab_type": "code",
        "colab": {}
      },
      "source": [
        "from collections import defaultdict\n",
        "def has_cycle(graph, visited, parent, u):\n",
        "  visited.add(u)\n",
        "  for v in graph[u]:\n",
        "    if v  in visited or has_cycle(graph, visited, u,v):\n",
        "      return True\n",
        "  return False \n",
        "\n",
        "class Solution(object):\n",
        "  def validTree(self, n, edges):\n",
        "    visited = set()\n",
        "    graph = defaultdict()\n",
        "    for edge in edges:\n",
        "      graph[edge[0]].append([edge[1])\n",
        "      graph[edge[1]].append([edge[0]])\n",
        "    return not has_cycle(graph, visited, -1, 0) and len(visited)==n "
      ],
      "execution_count": null,
      "outputs": []
    }
  ]
}