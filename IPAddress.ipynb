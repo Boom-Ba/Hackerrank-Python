{
  "nbformat": 4,
  "nbformat_minor": 0,
  "metadata": {
    "colab": {
      "name": "IPAddress.ipynb",
      "provenance": [],
      "authorship_tag": "ABX9TyMy2pjnQ3NQMIDEQQFyEdaq",
      "include_colab_link": true
    },
    "kernelspec": {
      "name": "python3",
      "display_name": "Python 3"
    }
  },
  "cells": [
    {
      "cell_type": "markdown",
      "metadata": {
        "id": "view-in-github",
        "colab_type": "text"
      },
      "source": [
        "<a href=\"https://colab.research.google.com/github/Boom-Ba/Hackerrank-Python/blob/master/IPAddress.ipynb\" target=\"_parent\"><img src=\"https://colab.research.google.com/assets/colab-badge.svg\" alt=\"Open In Colab\"/></a>"
      ]
    },
    {
      "cell_type": "code",
      "metadata": {
        "id": "0zoqiEG3_oxl"
      },
      "source": [
        "input =['10.70.44.68~255.254.255.0','1.0.0.1~255.0.0.0','192.168.0.2~255.255.255.0','19..0.~255.255.255.0']\n",
        "ips=[]\n",
        "masks=[]"
      ],
      "execution_count": 1,
      "outputs": []
    },
    {
      "cell_type": "code",
      "metadata": {
        "id": "8wQUBHbB_5Pr"
      },
      "source": [
        "\n",
        "for i in range(len(input)):\n",
        "  ips.append((input[i].split('~')[0]).split('.'))\n",
        "  masks.append((input[i].split('~')[1]).split('.'))"
      ],
      "execution_count": 2,
      "outputs": []
    },
    {
      "cell_type": "code",
      "metadata": {
        "id": "U3XSsGUlAG_H",
        "outputId": "ad1d48d6-e1ad-4c82-a2b9-6a3171c50af8",
        "colab": {
          "base_uri": "https://localhost:8080/",
          "height": 34
        }
      },
      "source": [
        "A, B, C, D, E, error, private =0,0,0,0,0,0,0\n",
        "bol =[]\n",
        "def check_ip(ip):\n",
        "    if len(ip)!=4 or '' in ip:\n",
        "        return False\n",
        "    for i in range(4):\n",
        "        if int(ip[i])<0 or int(ip[i])>255:\n",
        "            return False\n",
        "        else:\n",
        "            return True\n",
        "\n",
        "def bi(num):\n",
        "    list1 =[]\n",
        "    while num:\n",
        "        n = num % 2\n",
        "        num = num // 2\n",
        "        list1.append(n)\n",
        "    if len(list1)<8:\n",
        "        list1.append(0)\n",
        "    list1.reverse()\n",
        "    return list1\n",
        "\n",
        "def check_mask(mask):\n",
        "    if len(mask)!=4 or '' in mask:\n",
        "      return False\n",
        "    lst =[int(i) for i in mask]\n",
        "    temp =[]\n",
        "    for i in range(4):\n",
        "        temp.extend(bi(lst[i]))\n",
        "    find_zero=0\n",
        "    for i in range(32):\n",
        "        if temp[i] ==0:\n",
        "            find_zero =i\n",
        "            break\n",
        "    for i in range(find_zero, 32):\n",
        "        if temp[i]==1:\n",
        "            return False\n",
        "        else:\n",
        "            return True\n",
        "\n",
        "for i in range(4):\n",
        "  if check_ip(ips[i]) and check_mask(masks[i]) and len(masks[i])==4:\n",
        "        line1 = [int(i) for i in ips[i]]\n",
        "        if 0<=line1[1]<=255 and 0<=line1[2]<=255 and 0<=line1[3]<=255:\n",
        "            if line1[0] == 10:\n",
        "                private += 1\n",
        "            if 1<=line1[0]<=126:\n",
        "                A += 1\n",
        "            if 128<=line1[0]<=191:\n",
        "                B += 1\n",
        "            if 192<=line1[0]<=223:\n",
        "                C += 1\n",
        "            if 224<=line1[0]<=239:\n",
        "                D += 1\n",
        "            if 240<=line1[0]<=255:\n",
        "                E += 1\n",
        "        #私码\n",
        "        if 0<=line1[2]<=255 and 0<=line1[3]<=255:\n",
        "            if line1[0] == 172 and 16<=line1[1]<=31:\n",
        "                private += 1\n",
        "            if line1[0] == 192 and line1[1] == 168:\n",
        "                private += 1\n",
        "  else:\n",
        "        error += 1\n",
        "\n",
        "print(A,B,C,D,E,error,private)"
      ],
      "execution_count": 5,
      "outputs": [
        {
          "output_type": "stream",
          "text": [
            "2 0 1 0 0 1 2\n"
          ],
          "name": "stdout"
        }
      ]
    },
    {
      "cell_type": "code",
      "metadata": {
        "id": "6Gq4tbzHdFzb"
      },
      "source": [
        ""
      ],
      "execution_count": null,
      "outputs": []
    }
  ]
}