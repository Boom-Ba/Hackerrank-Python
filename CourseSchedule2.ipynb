{
  "nbformat": 4,
  "nbformat_minor": 0,
  "metadata": {
    "colab": {
      "name": "CourseSchedule2",
      "provenance": [],
      "authorship_tag": "ABX9TyNqCbWApSgjauaaI6iy89z1",
      "include_colab_link": true
    },
    "kernelspec": {
      "name": "python3",
      "display_name": "Python 3"
    }
  },
  "cells": [
    {
      "cell_type": "markdown",
      "metadata": {
        "id": "view-in-github",
        "colab_type": "text"
      },
      "source": [
        "<a href=\"https://colab.research.google.com/github/Boom-Ba/Hackerrank-Python/blob/master/CourseSchedule2.ipynb\" target=\"_parent\"><img src=\"https://colab.research.google.com/assets/colab-badge.svg\" alt=\"Open In Colab\"/></a>"
      ]
    },
    {
      "cell_type": "code",
      "metadata": {
        "id": "Q9iYlpC-zU9_",
        "colab_type": "code",
        "colab": {}
      },
      "source": [
        "class Solution:\n",
        "    def findOrder(self, numCourses: int, prerequisites: List[List[int]]) -> List[int]:\n",
        "        from collections import defaultdict\n",
        "        #[[1,0],[2,0],[3,1],[3,2]]\n",
        "        \n",
        "        graph = defaultdict(list)\n",
        "        for p in prerequisites:\n",
        "            graph[p[0]].append(p[1])\n",
        "        #{[1]:0}\n",
        "        visited= [-1]*numCourses\n",
        "        courses= []\n",
        "        def dfs(u):\n",
        "            visited[u] =0\n",
        "            for i in graph[u]:\n",
        "                if visited[i] ==0 or (visited[i]==-1 and not dfs(i)):\n",
        "                    return False     \n",
        "            #true\n",
        "            visited[u] =1\n",
        "            courses.append(u)\n",
        "            return True\n",
        "            \n",
        "        for i in range(numCourses):\n",
        "            if visited[i]==-1 and not dfs(i):\n",
        "                return []\n",
        "        return courses\n",
        "        \n",
        "        \n",
        "        "
      ],
      "execution_count": null,
      "outputs": []
    }
  ]
}