{
  "nbformat": 4,
  "nbformat_minor": 0,
  "metadata": {
    "colab": {
      "name": "CountAndSay.ipynb",
      "provenance": [],
      "authorship_tag": "ABX9TyOypnlmcUiJhFyzExmJe6FI",
      "include_colab_link": true
    },
    "kernelspec": {
      "name": "python3",
      "display_name": "Python 3"
    },
    "language_info": {
      "name": "python"
    }
  },
  "cells": [
    {
      "cell_type": "markdown",
      "metadata": {
        "id": "view-in-github",
        "colab_type": "text"
      },
      "source": [
        "<a href=\"https://colab.research.google.com/github/Boom-Ba/Hackerrank-Python/blob/master/CountAndSay.ipynb\" target=\"_parent\"><img src=\"https://colab.research.google.com/assets/colab-badge.svg\" alt=\"Open In Colab\"/></a>"
      ]
    },
    {
      "cell_type": "code",
      "metadata": {
        "id": "IWAh54px5UT-"
      },
      "source": [
        "class Solution:\n",
        "    \"\"\"\n",
        "    n=1 '1'\n",
        "    n=2 '11' based on previous resule to count and say\n",
        "    n=3 '21'\n",
        "    n=4 '1211'\n",
        "    \"\"\"\n",
        "    def countAndSay(self, n: int) -> str:\n",
        "        if n<=0:\n",
        "            return ''\n",
        "        res='1'\n",
        "        for _ in range(n-1):\n",
        "            start_l= res[0]\n",
        "            temp,count='',0\n",
        "            for c in res:\n",
        "                if c==start_l:\n",
        "                    count+=1\n",
        "                else:\n",
        "                    temp+=str(count)+start_l\n",
        "                    start_l=c\n",
        "                    count=1\n",
        "            temp+=str(count)+start_l\n",
        "            res=temp           \n",
        "        return res"
      ],
      "execution_count": null,
      "outputs": []
    }
  ]
}