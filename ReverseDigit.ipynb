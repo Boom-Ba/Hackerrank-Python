{
  "nbformat": 4,
  "nbformat_minor": 0,
  "metadata": {
    "colab": {
      "name": "ReverseDigit.ipynb",
      "provenance": [],
      "authorship_tag": "ABX9TyOAQCaNJePX0ZtNLzg/vRY8",
      "include_colab_link": true
    },
    "kernelspec": {
      "name": "python3",
      "display_name": "Python 3"
    },
    "language_info": {
      "name": "python"
    }
  },
  "cells": [
    {
      "cell_type": "markdown",
      "metadata": {
        "id": "view-in-github",
        "colab_type": "text"
      },
      "source": [
        "<a href=\"https://colab.research.google.com/github/Boom-Ba/Hackerrank-Python/blob/master/ReverseDigit.ipynb\" target=\"_parent\"><img src=\"https://colab.research.google.com/assets/colab-badge.svg\" alt=\"Open In Colab\"/></a>"
      ]
    },
    {
      "cell_type": "code",
      "metadata": {
        "id": "IWAh54px5UT-"
      },
      "source": [
        "class Solution:\n",
        "    def reverseDigit(self, x: int) -> int:\n",
        "        sign =1\n",
        "        if x<0:\n",
        "            sign*=-1     \n",
        "            x*=-1    \n",
        "        r = int(str(x)[::-1])\n",
        "        if sign==-1:\n",
        "            r=-r\n",
        "        if not -2**31<=r<=2**31-1:\n",
        "            return 0\n",
        "        return r\n",
        "        "
      ],
      "execution_count": null,
      "outputs": []
    }
  ]
}