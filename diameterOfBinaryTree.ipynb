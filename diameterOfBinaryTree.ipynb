{
  "nbformat": 4,
  "nbformat_minor": 0,
  "metadata": {
    "colab": {
      "name": "diameterOfBinaryTree",
      "provenance": [],
      "collapsed_sections": [],
      "authorship_tag": "ABX9TyPJJ7w8Lr63Nx53QchPHIAL",
      "include_colab_link": true
    },
    "kernelspec": {
      "name": "python3",
      "display_name": "Python 3"
    }
  },
  "cells": [
    {
      "cell_type": "markdown",
      "metadata": {
        "id": "view-in-github",
        "colab_type": "text"
      },
      "source": [
        "<a href=\"https://colab.research.google.com/github/Boom-Ba/Hackerrank-Python/blob/master/diameterOfBinaryTree.ipynb\" target=\"_parent\"><img src=\"https://colab.research.google.com/assets/colab-badge.svg\" alt=\"Open In Colab\"/></a>"
      ]
    },
    {
      "cell_type": "code",
      "metadata": {
        "id": "BxtkWfV31X94",
        "colab_type": "code",
        "colab": {}
      },
      "source": [
        "# Definition for a binary tree node.\n",
        "# class TreeNode:\n",
        "#     def __init__(self, val=0, left=None, right=None):\n",
        "#         self.val = val\n",
        "#         self.left = left\n",
        "#         self.right = right\n",
        "class Solution:\n",
        "    def diameterOfBinaryTree(self, root: TreeNode) -> int:\n",
        "        #diameter=max_depth_left+right'\n",
        "        self.path =0 \n",
        "        self.maxDepth(root)\n",
        "        return self.path\n",
        "        \n",
        "    \n",
        "    def maxDepth(self, root):\n",
        "        if not root:\n",
        "            return 0\n",
        "        if not root.left and not root.right:\n",
        "            return 1\n",
        "        left= self.maxDepth(root.left)\n",
        "        right=self.maxDepth(root.right)\n",
        "        self.path=max(self.path, left+right)\n",
        "        return left+1 if left>right else right+1\n",
        "        "
      ],
      "execution_count": null,
      "outputs": []
    }
  ]
}