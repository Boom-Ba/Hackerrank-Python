{
  "nbformat": 4,
  "nbformat_minor": 0,
  "metadata": {
    "colab": {
      "name": "PermutationSequence",
      "provenance": [],
      "authorship_tag": "ABX9TyNdUjiDTO94/6MdSLWhzigw",
      "include_colab_link": true
    },
    "kernelspec": {
      "name": "python3",
      "display_name": "Python 3"
    }
  },
  "cells": [
    {
      "cell_type": "markdown",
      "metadata": {
        "id": "view-in-github",
        "colab_type": "text"
      },
      "source": [
        "<a href=\"https://colab.research.google.com/github/Boom-Ba/Hackerrank-Python/blob/master/PermutationSequence.ipynb\" target=\"_parent\"><img src=\"https://colab.research.google.com/assets/colab-badge.svg\" alt=\"Open In Colab\"/></a>"
      ]
    },
    {
      "cell_type": "code",
      "metadata": {
        "id": "A7IzcOsiqXe4",
        "colab_type": "code",
        "colab": {}
      },
      "source": [
        "class Solution:\n",
        "  def solve(self,n,k):\n",
        "    ans = ''\n",
        "    fact =[1]*n #4\n",
        "    num = [str(i) for i in range(1, 10)]\n",
        "    #print(num)\n",
        "    for i in range(1, n):\n",
        "        fact[i] = fact[i - 1] * i\n",
        "    #8\n",
        "    k -= 1 #index of perm\n",
        "    for i in range(n, 0, -1):\n",
        "      first = k // fact[i - 1]\n",
        "      #1\n",
        "      k %= fact[i - 1]\n",
        "      # k= 3 \n",
        "      ans += num[first]\n",
        "      print(ans)\n",
        "      num.pop(first)\n",
        "    return ans\n",
        "s=Solution()\n",
        "print(s.solve(4,9))\n",
        "\n",
        "'''\n",
        "1234\n",
        "1\n",
        "1\n",
        "1\n",
        "1\n",
        "1\n",
        "9%6 ==3\n",
        "---------\n",
        "2134\n",
        "2143\n",
        "2314 <-\n",
        "2341\n",
        "2413\n",
        "2431\n",
        "-------\n",
        "33\n",
        "\n",
        "44\n",
        "'''\n"
      ],
      "execution_count": null,
      "outputs": []
    }
  ]
}