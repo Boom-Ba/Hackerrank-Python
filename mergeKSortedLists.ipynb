{
  "nbformat": 4,
  "nbformat_minor": 0,
  "metadata": {
    "colab": {
      "name": "mergeKSortedLists",
      "provenance": [],
      "collapsed_sections": [],
      "authorship_tag": "ABX9TyO4ktQFxOaNMfStNvTSKoBH",
      "include_colab_link": true
    },
    "kernelspec": {
      "name": "python3",
      "display_name": "Python 3"
    }
  },
  "cells": [
    {
      "cell_type": "markdown",
      "metadata": {
        "id": "view-in-github",
        "colab_type": "text"
      },
      "source": [
        "<a href=\"https://colab.research.google.com/github/Boom-Ba/Hackerrank-Python/blob/master/mergeKSortedLists.ipynb\" target=\"_parent\"><img src=\"https://colab.research.google.com/assets/colab-badge.svg\" alt=\"Open In Colab\"/></a>"
      ]
    },
    {
      "cell_type": "code",
      "metadata": {
        "id": "BxtkWfV31X94",
        "colab_type": "code",
        "colab": {}
      },
      "source": [
        "# Definition for singly-linked list.\n",
        "# class ListNode:\n",
        "#     def __init__(self, val=0, next=None):\n",
        "#         self.val = val\n",
        "#         self.next = next\n",
        "class Solution:\n",
        "    def mergeKLists(self, lists: List[ListNode]) -> ListNode:\n",
        "        from heapq import heappush, heappop\n",
        "        heap=[]\n",
        "        for head in lists:\n",
        "            while head:\n",
        "                heap.append(head.val)\n",
        "                head=head.next\n",
        "        heapq.heapify(heap)\n",
        "        dummy =ListNode(0)\n",
        "        curr=dummy\n",
        "        while heap:\n",
        "            curr.next= ListNode(heappop(heap))\n",
        "            curr=curr.next\n",
        "        return dummy.next\n",
        "            \n",
        "                \n",
        "        "
      ],
      "execution_count": null,
      "outputs": []
    }
  ]
}