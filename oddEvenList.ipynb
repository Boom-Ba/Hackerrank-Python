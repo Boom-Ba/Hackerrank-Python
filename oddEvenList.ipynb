{
  "nbformat": 4,
  "nbformat_minor": 0,
  "metadata": {
    "colab": {
      "name": "oddEvenList",
      "provenance": [],
      "collapsed_sections": [],
      "authorship_tag": "ABX9TyMZ60/s9kPekfyS3NBH7gS1",
      "include_colab_link": true
    },
    "kernelspec": {
      "name": "python3",
      "display_name": "Python 3"
    }
  },
  "cells": [
    {
      "cell_type": "markdown",
      "metadata": {
        "id": "view-in-github",
        "colab_type": "text"
      },
      "source": [
        "<a href=\"https://colab.research.google.com/github/Boom-Ba/Hackerrank-Python/blob/master/oddEvenList.ipynb\" target=\"_parent\"><img src=\"https://colab.research.google.com/assets/colab-badge.svg\" alt=\"Open In Colab\"/></a>"
      ]
    },
    {
      "cell_type": "code",
      "metadata": {
        "id": "BxtkWfV31X94",
        "colab_type": "code",
        "colab": {}
      },
      "source": [
        "# Definition for singly-linked list.\n",
        "# class ListNode:\n",
        "#     def __init__(self, val=0, next=None):\n",
        "#         self.val = val\n",
        "#         self.next = next\n",
        "class Solution:\n",
        "    def oddEvenList(self, head: ListNode) -> ListNode:\n",
        "        #1 2 3 4 5 odd 1 3 5 -》 2 4\n",
        "        if not head or not head.next:\n",
        "            return head\n",
        "        odd =head\n",
        "        even =odd.next\n",
        "        t= even\n",
        "        while even and even.next:\n",
        "            odd.next = even.next\n",
        "            odd= odd.next\n",
        "            even.next=odd.next\n",
        "            even =even.next\n",
        "        odd.next=t\n",
        "        return head\n",
        "            \n",
        "        "
      ],
      "execution_count": null,
      "outputs": []
    }
  ]
}