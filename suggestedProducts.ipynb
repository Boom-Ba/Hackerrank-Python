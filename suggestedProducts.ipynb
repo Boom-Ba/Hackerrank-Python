{
  "nbformat": 4,
  "nbformat_minor": 0,
  "metadata": {
    "colab": {
      "name": "suggestedProducts",
      "provenance": [],
      "collapsed_sections": [],
      "authorship_tag": "ABX9TyNuRSHt+nhl0EOARGifWO8t",
      "include_colab_link": true
    },
    "kernelspec": {
      "name": "python3",
      "display_name": "Python 3"
    }
  },
  "cells": [
    {
      "cell_type": "markdown",
      "metadata": {
        "id": "view-in-github",
        "colab_type": "text"
      },
      "source": [
        "<a href=\"https://colab.research.google.com/github/Boom-Ba/Hackerrank-Python/blob/master/suggestedProducts.ipynb\" target=\"_parent\"><img src=\"https://colab.research.google.com/assets/colab-badge.svg\" alt=\"Open In Colab\"/></a>"
      ]
    },
    {
      "cell_type": "code",
      "metadata": {
        "id": "BxtkWfV31X94",
        "colab_type": "code",
        "colab": {}
      },
      "source": [
        "class Solution:\n",
        "    def suggestedProducts(self, products: List[str], searchWord: str) -> List[List[str]]:\n",
        "        res=[]\n",
        "        if not products:\n",
        "            return res\n",
        "        w =''\n",
        "        products.sort()\n",
        "        def binary_search(arr,w):\n",
        "            left,right =0, len(arr)\n",
        "            while left<right:\n",
        "                mid =(left+right)//2\n",
        "                if arr[mid]< w:\n",
        "                    left=mid+1\n",
        "                else:\n",
        "                    right=mid\n",
        "            return left\n",
        "    \n",
        "        for ch in searchWord:\n",
        "            w+=ch\n",
        "            temp =[]\n",
        "            index=binary_search(products,w)\n",
        "            for i in range(index, min(index+3, len(products))):\n",
        "                if products[i].startswith(w):\n",
        "                    temp.append(products[i])\n",
        "            res.append(temp)\n",
        "        return res\n",
        "                    \n",
        "            \n",
        "    "
      ],
      "execution_count": null,
      "outputs": []
    }
  ]
}