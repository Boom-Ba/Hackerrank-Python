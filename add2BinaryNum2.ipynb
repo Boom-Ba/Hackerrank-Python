{
  "nbformat": 4,
  "nbformat_minor": 0,
  "metadata": {
    "colab": {
      "name": "add2BinaryNum2",
      "provenance": [],
      "collapsed_sections": [],
      "authorship_tag": "ABX9TyMHbEFVJY+/hd/Lcm4Siw1O",
      "include_colab_link": true
    },
    "kernelspec": {
      "name": "python3",
      "display_name": "Python 3"
    }
  },
  "cells": [
    {
      "cell_type": "markdown",
      "metadata": {
        "id": "view-in-github",
        "colab_type": "text"
      },
      "source": [
        "<a href=\"https://colab.research.google.com/github/Boom-Ba/Hackerrank-Python/blob/master/add2BinaryNum2.ipynb\" target=\"_parent\"><img src=\"https://colab.research.google.com/assets/colab-badge.svg\" alt=\"Open In Colab\"/></a>"
      ]
    },
    {
      "cell_type": "code",
      "metadata": {
        "id": "BxtkWfV31X94",
        "colab_type": "code",
        "colab": {}
      },
      "source": [
        "class Solution:\n",
        "    def addBinary2(self, a: str, b: str) -> str:\n",
        "        return bin( int(a,2) + int(b,2))[2:]\n",
        "    "
      ],
      "execution_count": null,
      "outputs": []
    }
  ]
}