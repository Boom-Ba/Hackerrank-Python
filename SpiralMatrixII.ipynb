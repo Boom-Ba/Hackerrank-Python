{
  "nbformat": 4,
  "nbformat_minor": 0,
  "metadata": {
    "colab": {
      "name": "SpiralMatrixII.ipynb",
      "provenance": [],
      "authorship_tag": "ABX9TyOvzW6kN5Hby1CMqJoMgh+B",
      "include_colab_link": true
    },
    "kernelspec": {
      "name": "python3",
      "display_name": "Python 3"
    },
    "language_info": {
      "name": "python"
    }
  },
  "cells": [
    {
      "cell_type": "markdown",
      "metadata": {
        "id": "view-in-github",
        "colab_type": "text"
      },
      "source": [
        "<a href=\"https://colab.research.google.com/github/Boom-Ba/Hackerrank-Python/blob/master/SpiralMatrixII.ipynb\" target=\"_parent\"><img src=\"https://colab.research.google.com/assets/colab-badge.svg\" alt=\"Open In Colab\"/></a>"
      ]
    },
    {
      "cell_type": "code",
      "metadata": {
        "id": "IWAh54px5UT-"
      },
      "source": [
        "class Solution:\n",
        "    def generateMatrix(self, n: int) -> List[List[int]]:\n",
        "        result = [[0 for i in range(n)] for j in range(n)]\n",
        "        coord = [[(i,j) for j in range(n)] for i in range(n)]\n",
        "        print(coord)\n",
        "        count = 1\n",
        "    \n",
        "        while coord:\n",
        "            for x, y in coord.pop(0):\n",
        "                result[x][y] = count\n",
        "                count += 1\n",
        "            coord = [*zip(*coord)][::-1]\n",
        "\n",
        "        return result"
      ],
      "execution_count": null,
      "outputs": []
    }
  ]
}