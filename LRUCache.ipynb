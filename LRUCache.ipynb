{
  "nbformat": 4,
  "nbformat_minor": 0,
  "metadata": {
    "colab": {
      "name": "LRUCache",
      "provenance": [],
      "collapsed_sections": [],
      "authorship_tag": "ABX9TyOXHotH9w2RrnArsgxMYb0a",
      "include_colab_link": true
    },
    "kernelspec": {
      "name": "python3",
      "display_name": "Python 3"
    }
  },
  "cells": [
    {
      "cell_type": "markdown",
      "metadata": {
        "id": "view-in-github",
        "colab_type": "text"
      },
      "source": [
        "<a href=\"https://colab.research.google.com/github/Boom-Ba/Hackerrank-Python/blob/master/LRUCache.ipynb\" target=\"_parent\"><img src=\"https://colab.research.google.com/assets/colab-badge.svg\" alt=\"Open In Colab\"/></a>"
      ]
    },
    {
      "cell_type": "code",
      "metadata": {
        "id": "BxtkWfV31X94",
        "colab_type": "code",
        "colab": {}
      },
      "source": [
        "from collections import OrderedDict\n",
        "\n",
        "class LRUCache:\n",
        "\n",
        "    def __init__(self, capacity: int):\n",
        "        self.capacity = capacity\n",
        "        self.cache = OrderedDict()\n",
        "        \n",
        "\n",
        "    def get(self, key: int) -> int:\n",
        "        if key not in self.cache:\n",
        "            return -1\n",
        "        ret = self.cache[key]\n",
        "        self.cache.pop(key)\n",
        "        self.cache[key]=ret \n",
        "        return ret\n",
        "              \n",
        "\n",
        "    def put(self, key: int, value: int) -> None:\n",
        "        if key in self.cache:\n",
        "            self.cache.pop(key)\n",
        "            self.cache[key]=value\n",
        "        else:\n",
        "            if len(self.cache.keys())==self.capacity:\n",
        "                self.cache.popitem(last=False)#FIFO\n",
        "            self.cache[key]=value\n",
        "\n",
        "\n",
        "# Your LRUCache object will be instantiated and called as such:\n",
        "# obj = LRUCache(capacity)\n",
        "# param_1 = obj.get(key)\n",
        "# obj.put(key,value)"
      ],
      "execution_count": null,
      "outputs": []
    }
  ]
}