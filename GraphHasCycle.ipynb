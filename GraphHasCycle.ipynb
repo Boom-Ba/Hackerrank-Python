{
  "nbformat": 4,
  "nbformat_minor": 0,
  "metadata": {
    "colab": {
      "name": "GraphHasCycle",
      "provenance": [],
      "authorship_tag": "ABX9TyMFk1UOfiJrLkms1t8zKm/S",
      "include_colab_link": true
    },
    "kernelspec": {
      "name": "python3",
      "display_name": "Python 3"
    }
  },
  "cells": [
    {
      "cell_type": "markdown",
      "metadata": {
        "id": "view-in-github",
        "colab_type": "text"
      },
      "source": [
        "<a href=\"https://colab.research.google.com/github/Boom-Ba/Hackerrank-Python/blob/master/GraphHasCycle.ipynb\" target=\"_parent\"><img src=\"https://colab.research.google.com/assets/colab-badge.svg\" alt=\"Open In Colab\"/></a>"
      ]
    },
    {
      "cell_type": "code",
      "metadata": {
        "id": "Q9iYlpC-zU9_",
        "colab_type": "code",
        "colab": {}
      },
      "source": [
        "from collections import defaultdict\n",
        "class Solution:\n",
        "  def validTree (self, n, edges):\n",
        "    graph = defaultdict()\n",
        "    for edge in edges:\n",
        "      n1 = edge[0]\n",
        "      n2 = edge[1]\n",
        "      #undirected\n",
        "      graph[n1].append(n2)\n",
        "      graph[n2].append(n1)\n",
        "\n",
        "    visited = set()\n",
        "    visited.add(0)\n",
        "    self.dfs(graph, 0, visited)\n",
        "    return len(visited)==n\n",
        "\n",
        "  def dfs(self , graph, node, visited):\n",
        "    for nbr in graph[node]:\n",
        "      if nbr not in visited:\n",
        "        visited.add(nbr)\n",
        "        self.dfs(graph, nbr, visited)\n"
      ],
      "execution_count": null,
      "outputs": []
    }
  ]
}