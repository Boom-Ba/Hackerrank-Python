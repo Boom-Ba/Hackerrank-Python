{
  "nbformat": 4,
  "nbformat_minor": 0,
  "metadata": {
    "colab": {
      "name": "climbStairs",
      "provenance": [],
      "collapsed_sections": [],
      "authorship_tag": "ABX9TyO7GGFDOinb93LS/lmB8VP5",
      "include_colab_link": true
    },
    "kernelspec": {
      "name": "python3",
      "display_name": "Python 3"
    }
  },
  "cells": [
    {
      "cell_type": "markdown",
      "metadata": {
        "id": "view-in-github",
        "colab_type": "text"
      },
      "source": [
        "<a href=\"https://colab.research.google.com/github/Boom-Ba/Hackerrank-Python/blob/master/climbStairs.ipynb\" target=\"_parent\"><img src=\"https://colab.research.google.com/assets/colab-badge.svg\" alt=\"Open In Colab\"/></a>"
      ]
    },
    {
      "cell_type": "code",
      "metadata": {
        "id": "BxtkWfV31X94",
        "colab_type": "code",
        "colab": {}
      },
      "source": [
        "class Solution:\n",
        "    def climbStairs(self, n: int) -> int:\n",
        "        step =[1,1]\n",
        "        for i in range(2, n+1):\n",
        "            #index from 2 to n\n",
        "            step.append((step[i-1]+step[i-2]))\n",
        "        return step[-1]\n",
        "        "
      ],
      "execution_count": null,
      "outputs": []
    }
  ]
}