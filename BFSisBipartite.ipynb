{
  "nbformat": 4,
  "nbformat_minor": 0,
  "metadata": {
    "colab": {
      "name": "BFSisBipartite",
      "provenance": [],
      "authorship_tag": "ABX9TyMah1OvOZxaR6exVwz+dTSj",
      "include_colab_link": true
    },
    "kernelspec": {
      "name": "python3",
      "display_name": "Python 3"
    }
  },
  "cells": [
    {
      "cell_type": "markdown",
      "metadata": {
        "id": "view-in-github",
        "colab_type": "text"
      },
      "source": [
        "<a href=\"https://colab.research.google.com/github/Boom-Ba/Hackerrank-Python/blob/master/BFSisBipartite.ipynb\" target=\"_parent\"><img src=\"https://colab.research.google.com/assets/colab-badge.svg\" alt=\"Open In Colab\"/></a>"
      ]
    },
    {
      "cell_type": "code",
      "metadata": {
        "id": "sZ-MixLrUMpt",
        "colab_type": "code",
        "colab": {}
      },
      "source": [
        "class Solution:\n",
        "    def isBipartite(self, graph: List[List[int]]) -> bool:\n",
        "        visited =[0] * len(graph)\n",
        "        \n",
        "        for i in range(len(graph)):\n",
        "            if visited[i] ==0 and self.bfs(graph, visited, i) ==False:\n",
        "                return False\n",
        "        return True\n",
        "    \n",
        "    def bfs(self, graph, visited, i):\n",
        "        visited[i] =1\n",
        "        front = [i]\n",
        "        while front:\n",
        "            next =[]\n",
        "            for i in front:\n",
        "                for node in graph[i]:\n",
        "                    if visited[node] ==0:\n",
        "                        visited[node] =visited[i]+1\n",
        "                        next.append(node)\n",
        "                    elif visited[node]>0 and visited[node] ==visited[i]:\n",
        "                        return False\n",
        "            front= next\n",
        "        return True"
      ],
      "execution_count": null,
      "outputs": []
    }
  ]
}