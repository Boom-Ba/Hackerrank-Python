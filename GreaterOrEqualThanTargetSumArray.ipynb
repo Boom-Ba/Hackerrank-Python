{
  "nbformat": 4,
  "nbformat_minor": 0,
  "metadata": {
    "colab": {
      "name": "GreaterOrEqualThanTargetSumArray.ipynb",
      "provenance": [],
      "authorship_tag": "ABX9TyN3wuDKEkeYe8aA1JUgmDp7",
      "include_colab_link": true
    },
    "kernelspec": {
      "name": "python3",
      "display_name": "Python 3"
    },
    "language_info": {
      "name": "python"
    }
  },
  "cells": [
    {
      "cell_type": "markdown",
      "metadata": {
        "id": "view-in-github",
        "colab_type": "text"
      },
      "source": [
        "<a href=\"https://colab.research.google.com/github/Boom-Ba/Hackerrank-Python/blob/master/GreaterOrEqualThanTargetSumArray.ipynb\" target=\"_parent\"><img src=\"https://colab.research.google.com/assets/colab-badge.svg\" alt=\"Open In Colab\"/></a>"
      ]
    },
    {
      "cell_type": "code",
      "metadata": {
        "id": "IWAh54px5UT-"
      },
      "source": [
        "class Solution:\n",
        "    def minSubArrayLen(self, target: int, nums: List[int]) -> int:\n",
        "        if sum(nums)<target: return 0\n",
        "        if len(nums)>0 and target in nums:\n",
        "            return 1    \n",
        "        i =0\n",
        "        j =0\n",
        "        c=2**32-1\n",
        "        while j<len(nums):\n",
        "            curr_sum =sum(nums[i:j+1])\n",
        "            if curr_sum<target:\n",
        "                j+=1\n",
        "            else:\n",
        "                c =min(c, len(nums[i:j+1]))\n",
        "                i+=1\n",
        "            \n",
        "        return c if c !=2**32-1 else c"
      ],
      "execution_count": null,
      "outputs": []
    }
  ]
}