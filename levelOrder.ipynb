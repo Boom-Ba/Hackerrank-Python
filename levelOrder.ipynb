{
  "nbformat": 4,
  "nbformat_minor": 0,
  "metadata": {
    "colab": {
      "name": "levelOrder.ipynb",
      "provenance": [],
      "collapsed_sections": [],
      "authorship_tag": "ABX9TyPlr13siDNs5y10cgT+T077",
      "include_colab_link": true
    },
    "kernelspec": {
      "name": "python3",
      "display_name": "Python 3"
    }
  },
  "cells": [
    {
      "cell_type": "markdown",
      "metadata": {
        "id": "view-in-github",
        "colab_type": "text"
      },
      "source": [
        "<a href=\"https://colab.research.google.com/github/Boom-Ba/Hackerrank-Python/blob/master/levelOrder.ipynb\" target=\"_parent\"><img src=\"https://colab.research.google.com/assets/colab-badge.svg\" alt=\"Open In Colab\"/></a>"
      ]
    },
    {
      "cell_type": "code",
      "metadata": {
        "id": "BxtkWfV31X94",
        "colab_type": "code",
        "colab": {}
      },
      "source": [
        "# Definition for a binary tree node.\n",
        "# class TreeNode:\n",
        "#     def __init__(self, val=0, left=None, right=None):\n",
        "#         self.val = val\n",
        "#         self.left = left\n",
        "#         self.right = right\n",
        "class Solution:\n",
        "    def levelOrder(self, root: TreeNode) -> List[List[int]]:\n",
        "        if not root:\n",
        "            return []\n",
        "        res,q =[],[(root)]\n",
        "        while q:\n",
        "            level =[]\n",
        "            for i in range(len(q)):\n",
        "                curr= q.pop(0)\n",
        "                level.append(curr.val)\n",
        "                if curr.left:\n",
        "                    q.append(curr.left)\n",
        "                if curr.right:\n",
        "                    q.append(curr.right)\n",
        "            res.append(level)\n",
        "        return res\n",
        "        "
      ],
      "execution_count": null,
      "outputs": []
    }
  ]
}