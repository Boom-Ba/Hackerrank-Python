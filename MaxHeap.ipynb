{
  "nbformat": 4,
  "nbformat_minor": 0,
  "metadata": {
    "colab": {
      "name": "MaxHeap",
      "provenance": [],
      "collapsed_sections": [],
      "authorship_tag": "ABX9TyP+nIiduxN/UP2Nr2jXzoDY",
      "include_colab_link": true
    },
    "kernelspec": {
      "name": "python3",
      "display_name": "Python 3"
    }
  },
  "cells": [
    {
      "cell_type": "markdown",
      "metadata": {
        "id": "view-in-github",
        "colab_type": "text"
      },
      "source": [
        "<a href=\"https://colab.research.google.com/github/Boom-Ba/Hackerrank-Python/blob/master/MaxHeap.ipynb\" target=\"_parent\"><img src=\"https://colab.research.google.com/assets/colab-badge.svg\" alt=\"Open In Colab\"/></a>"
      ]
    },
    {
      "cell_type": "code",
      "metadata": {
        "id": "TY1MWMOQSfn8",
        "outputId": "233ca86d-fe73-403d-da7f-eb4cf8819aca",
        "colab": {
          "base_uri": "https://localhost:8080/",
          "height": 34
        }
      },
      "source": [
        "#build a max heap with k\n",
        "import heapq\n",
        "def find(array,k):\n",
        "  if not array:\n",
        "    return array\n",
        "  res =[]\n",
        "  #sort\n",
        "  array = [-ele for ele in array[0:k]]\n",
        "  heapq.heapify(array)\n",
        "  #find\n",
        "  for i in range(min(k, len(array))):\n",
        "    res.append(-heapq.heappop(array))\n",
        "  return res\n",
        "    \n",
        "array =[-10,1,10,2,7,3,4]\n",
        "find(array,len(array))"
      ],
      "execution_count": 22,
      "outputs": [
        {
          "output_type": "execute_result",
          "data": {
            "text/plain": [
              "[10, 7, 4, 3, 2, 1, -10]"
            ]
          },
          "metadata": {
            "tags": []
          },
          "execution_count": 22
        }
      ]
    },
    {
      "cell_type": "code",
      "metadata": {
        "id": "yPF0AR_znsuQ"
      },
      "source": [
        ""
      ],
      "execution_count": null,
      "outputs": []
    }
  ]
}