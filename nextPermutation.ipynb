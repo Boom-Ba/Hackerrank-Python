{
  "nbformat": 4,
  "nbformat_minor": 0,
  "metadata": {
    "colab": {
      "name": "nextPermutation",
      "provenance": [],
      "collapsed_sections": [],
      "authorship_tag": "ABX9TyOtpX1dAHTefXj2SWhYDHxE",
      "include_colab_link": true
    },
    "kernelspec": {
      "name": "python3",
      "display_name": "Python 3"
    }
  },
  "cells": [
    {
      "cell_type": "markdown",
      "metadata": {
        "id": "view-in-github",
        "colab_type": "text"
      },
      "source": [
        "<a href=\"https://colab.research.google.com/github/Boom-Ba/Hackerrank-Python/blob/master/nextPermutation.ipynb\" target=\"_parent\"><img src=\"https://colab.research.google.com/assets/colab-badge.svg\" alt=\"Open In Colab\"/></a>"
      ]
    },
    {
      "cell_type": "code",
      "metadata": {
        "id": "BxtkWfV31X94",
        "colab_type": "code",
        "colab": {}
      },
      "source": [
        "class Solution:\n",
        "    def nextPermutation(self, nums: List[int]) -> None:\n",
        "        \"\"\"\n",
        "        Do not return anything, modify nums in-place instead.\n",
        "        \"\"\"\n",
        "        if not nums or len(nums)==0:\n",
        "            return \n",
        "        \n",
        "        index = len(nums)-2\n",
        "        while index>=0:\n",
        "            if nums[index] < nums[index+1]:\n",
        "                break\n",
        "            else:\n",
        "                index-=1 \n",
        "            if index<0:\n",
        "                nums.sort()\n",
        "                return\n",
        "        next_index=index+1\n",
        "        target =float('inf')\n",
        "        while next_index<len(nums) and nums[next_index]>nums[index]:\n",
        "            target = min(target,nums[next_index])\n",
        "            next_index+=1\n",
        "        nums[index],nums[next_index-1] =nums[next_index-1],nums[index]\n",
        "        nums[index+1:]=sorted(nums[index+1:])\n",
        "        \n",
        "    "
      ],
      "execution_count": null,
      "outputs": []
    }
  ]
}