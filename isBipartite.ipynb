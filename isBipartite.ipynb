{
  "nbformat": 4,
  "nbformat_minor": 0,
  "metadata": {
    "colab": {
      "name": "isBipartite",
      "provenance": [],
      "authorship_tag": "ABX9TyP801J53/uRp+9ZYkzoFPlz",
      "include_colab_link": true
    },
    "kernelspec": {
      "name": "python3",
      "display_name": "Python 3"
    }
  },
  "cells": [
    {
      "cell_type": "markdown",
      "metadata": {
        "id": "view-in-github",
        "colab_type": "text"
      },
      "source": [
        "<a href=\"https://colab.research.google.com/github/Boom-Ba/Hackerrank-Python/blob/master/isBipartite.ipynb\" target=\"_parent\"><img src=\"https://colab.research.google.com/assets/colab-badge.svg\" alt=\"Open In Colab\"/></a>"
      ]
    },
    {
      "cell_type": "code",
      "metadata": {
        "id": "sZ-MixLrUMpt",
        "colab_type": "code",
        "colab": {}
      },
      "source": [
        "class Solution:\n",
        "    #dfs\n",
        "    def isBipartite(self, graph: List[List[int]]) -> bool:\n",
        "        visited= [0]*len(graph)\n",
        "        self.valid = True\n",
        "        for i in range(len(graph)):\n",
        "            if visited[i] ==0:\n",
        "                self.dfs(graph, visited, i, 1)\n",
        "                if not self.valid:\n",
        "                    break\n",
        "        return self.valid\n",
        "    \n",
        "    def dfs(self, graph, visited, i, color):\n",
        "        visited[i]=color\n",
        "        diff_color = (2 if color==1 else 1)\n",
        "        for nbr in graph[i]:\n",
        "            if visited[nbr] ==0:\n",
        "                self.dfs(graph, visited, nbr, diff_color)\n",
        "                if not self.valid:\n",
        "                    return\n",
        "            elif visited[nbr]>0 and visited[nbr]==visited[i]:\n",
        "                self.valid=False\n",
        "                return \n",
        "                \n",
        "        "
      ],
      "execution_count": null,
      "outputs": []
    }
  ]
}