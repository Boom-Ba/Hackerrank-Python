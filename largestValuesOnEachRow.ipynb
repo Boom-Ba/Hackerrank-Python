{
  "nbformat": 4,
  "nbformat_minor": 0,
  "metadata": {
    "colab": {
      "name": "largestValuesOnEachRow",
      "provenance": [],
      "collapsed_sections": [],
      "authorship_tag": "ABX9TyOvEWCLVwGyVOagnQwgl7at",
      "include_colab_link": true
    },
    "kernelspec": {
      "name": "python3",
      "display_name": "Python 3"
    }
  },
  "cells": [
    {
      "cell_type": "markdown",
      "metadata": {
        "id": "view-in-github",
        "colab_type": "text"
      },
      "source": [
        "<a href=\"https://colab.research.google.com/github/Boom-Ba/Hackerrank-Python/blob/master/largestValuesOnEachRow.ipynb\" target=\"_parent\"><img src=\"https://colab.research.google.com/assets/colab-badge.svg\" alt=\"Open In Colab\"/></a>"
      ]
    },
    {
      "cell_type": "code",
      "metadata": {
        "id": "BxtkWfV31X94",
        "colab_type": "code",
        "colab": {}
      },
      "source": [
        "# Definition for a binary tree node.\n",
        "# class TreeNode:\n",
        "#     def __init__(self, val=0, left=None, right=None):\n",
        "#         self.val = val\n",
        "#         self.left = left\n",
        "#         self.right = right\n",
        "from collections import deque\n",
        "class Solution:\n",
        "    def largestValues(self, root: TreeNode) -> List[int]:\n",
        "        #bfs\n",
        "        if not root:\n",
        "            return []\n",
        "        q = deque()\n",
        "        q.append(root)\n",
        "        res= []\n",
        "        while q:\n",
        "            size=len(q)\n",
        "            temp = -float('inf')\n",
        "            for i in range(size):\n",
        "                node=q.popleft()\n",
        "                temp = max(temp, node.val)        \n",
        "                if node.left:\n",
        "                    q.append(node.left)\n",
        "                if node.right:\n",
        "                    q.append(node.right)\n",
        "            res.append(temp)\n",
        "        return res\n",
        "        \n",
        "        "
      ],
      "execution_count": null,
      "outputs": []
    }
  ]
}