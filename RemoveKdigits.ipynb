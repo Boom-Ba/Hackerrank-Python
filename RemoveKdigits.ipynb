{
  "nbformat": 4,
  "nbformat_minor": 0,
  "metadata": {
    "colab": {
      "name": "removeKdigits.ipynb",
      "provenance": [],
      "authorship_tag": "ABX9TyNKg0aBN8I04GfcLV9nh+Hq",
      "include_colab_link": true
    },
    "kernelspec": {
      "name": "python3",
      "display_name": "Python 3"
    },
    "language_info": {
      "name": "python"
    }
  },
  "cells": [
    {
      "cell_type": "markdown",
      "metadata": {
        "id": "view-in-github",
        "colab_type": "text"
      },
      "source": [
        "<a href=\"https://colab.research.google.com/github/Boom-Ba/Hackerrank-Python/blob/master/RemoveKdigits.ipynb\" target=\"_parent\"><img src=\"https://colab.research.google.com/assets/colab-badge.svg\" alt=\"Open In Colab\"/></a>"
      ]
    },
    {
      "cell_type": "code",
      "metadata": {
        "id": "yj8oUhhy0dgM"
      },
      "source": [
        "class Solution:\n",
        "    def removeKdigits(self, num: str, k: int) -> str:\n",
        "        \"\"\"\n",
        "        Input: num = \"1432219\", k = 3\n",
        "        Output: \"1219\"\n",
        "        Explanation: Remove the three digits 4, 3, and 2 to form the new number 1219 which         is the smallest.\n",
        "        \"\"\"\n",
        "        \n",
        "        stack =[]\n",
        "        \n",
        "        for i in num:\n",
        "            while len(stack)>0 and stack[-1]>i and k>0:\n",
        "                stack.pop()\n",
        "                k-=1\n",
        "            stack.append(i)\n",
        "        if k>0:\n",
        "            stack=stack[:-k] \n",
        "        \n",
        "        return ''.join(stack).lstrip('0') or '0'\n",
        "    \n",
        "    "
      ],
      "execution_count": 1,
      "outputs": []
    },
    {
      "cell_type": "code",
      "metadata": {
        "id": "TSWmo29N0fC7"
      },
      "source": [
        ""
      ],
      "execution_count": null,
      "outputs": []
    }
  ]
}