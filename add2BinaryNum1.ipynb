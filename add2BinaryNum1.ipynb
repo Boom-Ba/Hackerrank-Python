{
  "nbformat": 4,
  "nbformat_minor": 0,
  "metadata": {
    "colab": {
      "name": "add2BinaryNum1",
      "provenance": [],
      "collapsed_sections": [],
      "authorship_tag": "ABX9TyMNUeDqrq/rVO0pzA+a6vNz",
      "include_colab_link": true
    },
    "kernelspec": {
      "name": "python3",
      "display_name": "Python 3"
    }
  },
  "cells": [
    {
      "cell_type": "markdown",
      "metadata": {
        "id": "view-in-github",
        "colab_type": "text"
      },
      "source": [
        "<a href=\"https://colab.research.google.com/github/Boom-Ba/Hackerrank-Python/blob/master/add2BinaryNum1.ipynb\" target=\"_parent\"><img src=\"https://colab.research.google.com/assets/colab-badge.svg\" alt=\"Open In Colab\"/></a>"
      ]
    },
    {
      "cell_type": "code",
      "metadata": {
        "id": "BxtkWfV31X94",
        "colab_type": "code",
        "colab": {}
      },
      "source": [
        "class Solution:\n",
        "    def addBinary(self, a: str, b: str) -> str:\n",
        "        res= ''\n",
        "        i,j =len(a)-1,len(b)-1\n",
        "        sum =0\n",
        "        while i>=0 or j>=0 or sum==1:\n",
        "            sum +=int(a[i]) if i>=0 else 0\n",
        "            sum+=int(b[j]) if j>=0 else 0\n",
        "            res = str(sum%2) + res\n",
        "            i,j,sum =i-1,j-1,sum//2      \n",
        "        return res\n",
        "    \n",
        "    \n",
        "    "
      ],
      "execution_count": null,
      "outputs": []
    }
  ]
}