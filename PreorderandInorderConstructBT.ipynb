{
  "nbformat": 4,
  "nbformat_minor": 0,
  "metadata": {
    "colab": {
      "name": "PreorderandInorderConstructBT",
      "provenance": [],
      "collapsed_sections": [],
      "authorship_tag": "ABX9TyOTAM9Y8ur5nD1DtA5vXmhf",
      "include_colab_link": true
    },
    "kernelspec": {
      "name": "python3",
      "display_name": "Python 3"
    }
  },
  "cells": [
    {
      "cell_type": "markdown",
      "metadata": {
        "id": "view-in-github",
        "colab_type": "text"
      },
      "source": [
        "<a href=\"https://colab.research.google.com/github/Boom-Ba/Hackerrank-Python/blob/master/PreorderandInorderConstructBT.ipynb\" target=\"_parent\"><img src=\"https://colab.research.google.com/assets/colab-badge.svg\" alt=\"Open In Colab\"/></a>"
      ]
    },
    {
      "cell_type": "code",
      "metadata": {
        "id": "BxtkWfV31X94",
        "colab_type": "code",
        "colab": {}
      },
      "source": [
        "# Definition for a binary tree node.\n",
        "# class TreeNode:\n",
        "#     def __init__(self, val=0, left=None, right=None):\n",
        "#         self.val = val\n",
        "#         self.left = left\n",
        "#         self.right = right\n",
        "class Solution:\n",
        "    def buildTree(self, preorder: List[int], inorder: List[int]) -> TreeNode:\n",
        "        #PreOrder: N L R root at first\n",
        "        #Inorder L N R , L - N -> LeftSubTree\n",
        "        if(len(preorder) == 0 ): return None\n",
        "        \n",
        "        if len(preorder)==1 and preorder[0]:\n",
        "            return TreeNode(preorder[0])\n",
        "        \n",
        "        root = TreeNode(preorder[0])\n",
        "        rootIndex = inorder.index(preorder[0]) #1\n",
        "            \n",
        "        root.left =self.buildTree(preorder[1:rootIndex+1],inorder[:rootIndex+1])\n",
        "        root.right =self.buildTree(preorder[rootIndex+1:],inorder[rootIndex+1:])\n",
        "        return root\n",
        "            \n",
        "            \n",
        "    "
      ],
      "execution_count": null,
      "outputs": []
    }
  ]
}