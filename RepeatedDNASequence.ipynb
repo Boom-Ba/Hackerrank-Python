{
  "nbformat": 4,
  "nbformat_minor": 0,
  "metadata": {
    "colab": {
      "name": "RepeatedDNASequence.ipynb",
      "provenance": [],
      "authorship_tag": "ABX9TyNoPDdlbdcyrNNjL/qkmyoF",
      "include_colab_link": true
    },
    "kernelspec": {
      "name": "python3",
      "display_name": "Python 3"
    },
    "language_info": {
      "name": "python"
    }
  },
  "cells": [
    {
      "cell_type": "markdown",
      "metadata": {
        "id": "view-in-github",
        "colab_type": "text"
      },
      "source": [
        "<a href=\"https://colab.research.google.com/github/Boom-Ba/Hackerrank-Python/blob/master/RepeatedDNASequence.ipynb\" target=\"_parent\"><img src=\"https://colab.research.google.com/assets/colab-badge.svg\" alt=\"Open In Colab\"/></a>"
      ]
    },
    {
      "cell_type": "code",
      "metadata": {
        "id": "IWAh54px5UT-"
      },
      "source": [
        "class Solution:\n",
        "    def findRepeatedDnaSequences(self, s: str) -> List[str]:\n",
        "        sequences = collections.defaultdict(int) \n",
        "        for i in range(len(s)):\n",
        "            sequences[s[i:i+10]] += 1#add 1 to the count\n",
        "        return [k for k,v in sequences.items() if v>1]"
      ],
      "execution_count": null,
      "outputs": []
    }
  ]
}