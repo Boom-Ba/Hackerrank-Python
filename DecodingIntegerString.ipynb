{
  "nbformat": 4,
  "nbformat_minor": 0,
  "metadata": {
    "colab": {
      "name": "DecodingIntegerString.ipynb",
      "provenance": [],
      "collapsed_sections": [],
      "authorship_tag": "ABX9TyPkFJu6W3X8WRCRoDt078zj",
      "include_colab_link": true
    },
    "kernelspec": {
      "name": "python3",
      "display_name": "Python 3"
    },
    "language_info": {
      "name": "python"
    }
  },
  "cells": [
    {
      "cell_type": "markdown",
      "metadata": {
        "id": "view-in-github",
        "colab_type": "text"
      },
      "source": [
        "<a href=\"https://colab.research.google.com/github/Boom-Ba/Hackerrank-Python/blob/master/DecodingIntegerString.ipynb\" target=\"_parent\"><img src=\"https://colab.research.google.com/assets/colab-badge.svg\" alt=\"Open In Colab\"/></a>"
      ]
    },
    {
      "cell_type": "code",
      "metadata": {
        "id": "IWAh54px5UT-"
      },
      "source": [
        "class Solution:\n",
        "    def numDecodings(self, s: str) -> int:\n",
        "        dp =[1 for _ in range(len(s)+1)]  \n",
        "        if list(s)[0]=='0':\n",
        "            return 0\n",
        "        elif len(s)==1:\n",
        "            return 1\n",
        "        for i in range(2,len(dp)):   \n",
        "            dp[i] = (dp[i-1] if 1<=int(s[i-1])<=26 else 0) + (dp[i-2] if int(s[i-2])!=0 and 1<=int(s[i-2]+s[i-1])<=26 else 0)\n",
        "        return dp[-1]\n",
        "        "
      ],
      "execution_count": null,
      "outputs": []
    }
  ]
}