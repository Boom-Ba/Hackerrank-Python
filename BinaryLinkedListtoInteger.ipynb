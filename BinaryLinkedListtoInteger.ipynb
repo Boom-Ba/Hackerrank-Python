{
  "nbformat": 4,
  "nbformat_minor": 0,
  "metadata": {
    "colab": {
      "name": "BinaryLinkedListtoInteger",
      "provenance": [],
      "collapsed_sections": [],
      "authorship_tag": "ABX9TyPFiIK/Z+Swh7k+ug4exDVV",
      "include_colab_link": true
    },
    "kernelspec": {
      "name": "python3",
      "display_name": "Python 3"
    },
    "language_info": {
      "name": "python"
    }
  },
  "cells": [
    {
      "cell_type": "markdown",
      "metadata": {
        "id": "view-in-github",
        "colab_type": "text"
      },
      "source": [
        "<a href=\"https://colab.research.google.com/github/Boom-Ba/Hackerrank-Python/blob/master/BinaryLinkedListtoInteger.ipynb\" target=\"_parent\"><img src=\"https://colab.research.google.com/assets/colab-badge.svg\" alt=\"Open In Colab\"/></a>"
      ]
    },
    {
      "cell_type": "code",
      "metadata": {
        "id": "IWAh54px5UT-"
      },
      "source": [
        "class Solution:\n",
        "    def BinaryLinkedListtoInteger(self, head: ListNode) -> int:\n",
        "        res= 0   \n",
        "        if not head:\n",
        "            return res\n",
        "        res=head.val\n",
        "        while head.next:\n",
        "            res =res*2+head.next.val\n",
        "            head=head.next\n",
        "        return res"
      ],
      "execution_count": null,
      "outputs": []
    }
  ]
}