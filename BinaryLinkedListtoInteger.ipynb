{
  "nbformat": 4,
  "nbformat_minor": 0,
  "metadata": {
    "colab": {
      "name": "BinaryLinkedListtoInteger",
      "provenance": [],
      "collapsed_sections": [],
      "authorship_tag": "ABX9TyOvWP8mzXYzitQfhjurzbi2",
      "include_colab_link": true
    },
    "kernelspec": {
      "name": "python3",
      "display_name": "Python 3"
    },
    "language_info": {
      "name": "python"
    }
  },
  "cells": [
    {
      "cell_type": "markdown",
      "metadata": {
        "id": "view-in-github",
        "colab_type": "text"
      },
      "source": [
        "<a href=\"https://colab.research.google.com/github/Boom-Ba/Hackerrank-Python/blob/master/BinaryLinkedListtoInteger.ipynb\" target=\"_parent\"><img src=\"https://colab.research.google.com/assets/colab-badge.svg\" alt=\"Open In Colab\"/></a>"
      ]
    },
    {
      "cell_type": "code",
      "metadata": {
        "id": "IWAh54px5UT-"
      },
      "source": [
        "class Solution:\n",
        "    def subsets(self, nums: List[int]) -> List[List[int]]:\n",
        "      \"\"\"\n",
        "      # Method1\n",
        "      if not nums:\n",
        "            return []\n",
        "        \n",
        "        res=[[]]\n",
        "        \n",
        "        for num in nums:\n",
        "            res+=[i+[num] for i in res]\n",
        "      \"\"\"\n",
        "        if not nums: return []   \n",
        "        res= []\n",
        "        curr =[]\n",
        "        def bt(index):\n",
        "            if index==len(nums):\n",
        "                res.append(curr[:])\n",
        "                return \n",
        "            curr.append(nums[index])\n",
        "            bt(index+1)\n",
        "            curr.pop()\n",
        "            bt(index+1)\n",
        "        bt(0)\n",
        "        return res\n",
        "        "
      ],
      "execution_count": null,
      "outputs": []
    }
  ]
}