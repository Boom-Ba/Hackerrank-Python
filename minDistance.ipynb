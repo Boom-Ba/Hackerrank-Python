{
  "nbformat": 4,
  "nbformat_minor": 0,
  "metadata": {
    "colab": {
      "name": "minDistance",
      "provenance": [],
      "authorship_tag": "ABX9TyNRNCKkW0ZES7Z2W4wqeOe1",
      "include_colab_link": true
    },
    "kernelspec": {
      "name": "python3",
      "display_name": "Python 3"
    }
  },
  "cells": [
    {
      "cell_type": "markdown",
      "metadata": {
        "id": "view-in-github",
        "colab_type": "text"
      },
      "source": [
        "<a href=\"https://colab.research.google.com/github/Boom-Ba/Hackerrank-Python/blob/master/minDistance.ipynb\" target=\"_parent\"><img src=\"https://colab.research.google.com/assets/colab-badge.svg\" alt=\"Open In Colab\"/></a>"
      ]
    },
    {
      "cell_type": "code",
      "metadata": {
        "id": "TY1MWMOQSfn8"
      },
      "source": [
        "def minDistance(w1,w2):\n",
        "  if w1==w2: return 0\n",
        "  l1,l2 = len(w1),len(w2)\n",
        "  dp =[['' for _ in range(l2)] for _ in range(l1)]\n",
        "  res=''\n",
        "  for i in range(l1):\n",
        "    for j in range(l2):\n",
        "      if w1[i] ==w2[j]:\n",
        "        if i==j==0:\n",
        "          dp[i][j] =w1[i]\n",
        "        else:\n",
        "          dp[i][j] =dp[i-1][j-1]+w1[i]\n",
        "      res = max(res, dp[i][j])\n",
        "                      \n",
        "  return res\n"
      ],
      "execution_count": 10,
      "outputs": []
    },
    {
      "cell_type": "code",
      "metadata": {
        "id": "yPF0AR_znsuQ"
      },
      "source": [
        ""
      ],
      "execution_count": null,
      "outputs": []
    }
  ]
}