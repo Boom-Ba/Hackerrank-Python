{
  "nbformat": 4,
  "nbformat_minor": 0,
  "metadata": {
    "colab": {
      "name": "numIslands.ipynb",
      "provenance": [],
      "authorship_tag": "ABX9TyNVq8r1aDE/3fFjOCzG/PY3",
      "include_colab_link": true
    },
    "kernelspec": {
      "name": "python3",
      "display_name": "Python 3"
    }
  },
  "cells": [
    {
      "cell_type": "markdown",
      "metadata": {
        "id": "view-in-github",
        "colab_type": "text"
      },
      "source": [
        "<a href=\"https://colab.research.google.com/github/Boom-Ba/Hackerrank-Python/blob/master/numIslands.ipynb\" target=\"_parent\"><img src=\"https://colab.research.google.com/assets/colab-badge.svg\" alt=\"Open In Colab\"/></a>"
      ]
    },
    {
      "cell_type": "code",
      "metadata": {
        "id": "sZ-MixLrUMpt",
        "colab_type": "code",
        "colab": {}
      },
      "source": [
        "#bfs\n",
        "class Solution:\n",
        "    def numIslands(self, grid: List[List[str]]) -> int:\n",
        "        cnt =0 \n",
        "        visited=set()\n",
        "        for i in range(len(grid)):\n",
        "            for j in range(len(grid[0])):\n",
        "                if grid[i][j] =='1' and (i,j) not in visited:\n",
        "                    cnt+=1\n",
        "                    self.bfs(grid, i,j, visited)     \n",
        "        return cnt\n",
        "    \n",
        "    def bfs(self, grid, r, c, visited):\n",
        "        # r+-1 c+-1\n",
        "        visited.add((r,c))\n",
        "        dr =[1,0,-1,0]\n",
        "        dc= [0, 1, 0, -1]\n",
        "        front =[(r,c)]\n",
        "        while front: \n",
        "            next= []\n",
        "            for r,c in front:\n",
        "                for i in range(4):\n",
        "                    nr  = r + dr[i]\n",
        "                    nc = c+  dc[i]\n",
        "                    if 0<=nr< len(grid) and 0<=nc<len(grid[0]) and grid[nr][nc]=='1' and (nr,nc) not in visited:\n",
        "                        node =(nr,nc)\n",
        "                        visited.add(node)\n",
        "                        next.append(node)         \n",
        "            front= next\n",
        "            \n",
        "    \n",
        "                    \n",
        "        "
      ],
      "execution_count": 1,
      "outputs": []
    }
  ]
}