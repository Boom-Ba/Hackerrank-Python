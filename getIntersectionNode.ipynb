{
  "nbformat": 4,
  "nbformat_minor": 0,
  "metadata": {
    "colab": {
      "name": "getIntersectionNode",
      "provenance": [],
      "collapsed_sections": [],
      "authorship_tag": "ABX9TyMDWbTgnOZKYOEx5NKjmnUE",
      "include_colab_link": true
    },
    "kernelspec": {
      "name": "python3",
      "display_name": "Python 3"
    }
  },
  "cells": [
    {
      "cell_type": "markdown",
      "metadata": {
        "id": "view-in-github",
        "colab_type": "text"
      },
      "source": [
        "<a href=\"https://colab.research.google.com/github/Boom-Ba/Hackerrank-Python/blob/master/getIntersectionNode.ipynb\" target=\"_parent\"><img src=\"https://colab.research.google.com/assets/colab-badge.svg\" alt=\"Open In Colab\"/></a>"
      ]
    },
    {
      "cell_type": "code",
      "metadata": {
        "id": "BxtkWfV31X94",
        "colab_type": "code",
        "colab": {}
      },
      "source": [
        "# Definition for singly-linked list.\n",
        "# class ListNode:\n",
        "#     def __init__(self, x):\n",
        "#         self.val = x\n",
        "#         self.next = None\n",
        "\n",
        "class Solution:\n",
        "    def getIntersectionNode(self, headA: ListNode, headB: ListNode) -> ListNode:\n",
        "        if not headA or not headB:\n",
        "            return None\n",
        "        currA=headA\n",
        "        currB =headB\n",
        "        while currA!=currB:\n",
        "            if currA ==None:\n",
        "                currA=headB\n",
        "            else:\n",
        "                currA=currA.next\n",
        "            if currB==None:\n",
        "                currB= headA\n",
        "            else:\n",
        "                currB=currB.next\n",
        "        return currB\n",
        "        \n",
        "                \n",
        "            \n",
        "        "
      ],
      "execution_count": null,
      "outputs": []
    }
  ]
}