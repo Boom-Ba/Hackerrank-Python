{
  "nbformat": 4,
  "nbformat_minor": 0,
  "metadata": {
    "colab": {
      "name": "rightSideView.ipynb",
      "provenance": [],
      "collapsed_sections": [],
      "authorship_tag": "ABX9TyNY3oMt3zHDW0NdTKtCKHEZ",
      "include_colab_link": true
    },
    "kernelspec": {
      "name": "python3",
      "display_name": "Python 3"
    }
  },
  "cells": [
    {
      "cell_type": "markdown",
      "metadata": {
        "id": "view-in-github",
        "colab_type": "text"
      },
      "source": [
        "<a href=\"https://colab.research.google.com/github/Boom-Ba/Hackerrank-Python/blob/master/rightSideView.ipynb\" target=\"_parent\"><img src=\"https://colab.research.google.com/assets/colab-badge.svg\" alt=\"Open In Colab\"/></a>"
      ]
    },
    {
      "cell_type": "code",
      "metadata": {
        "id": "BxtkWfV31X94",
        "colab_type": "code",
        "colab": {}
      },
      "source": [
        "# Definition for a binary tree node.\n",
        "# class TreeNode:\n",
        "#     def __init__(self, val=0, left=None, right=None):\n",
        "#         self.val = val\n",
        "#         self.left = left\n",
        "#         self.right = right\n",
        "class Solution:\n",
        "    def rightSideView_DFS(self, root: TreeNode) -> List[int]:\n",
        "        res= []\n",
        "        level = 0\n",
        "        def dfs(root, level): #1 , 0\n",
        "            if root: \n",
        "                if len(res)>level: \n",
        "                    res[level] =root.val\n",
        "                else: # [1, 2]\n",
        "                    res.append(root.val)\n",
        "                if root.left:\n",
        "                    dfs(root.left, level+1)\n",
        "                if root.right:\n",
        "                    dfs(root.right, level+1)\n",
        "            \n",
        "            return res\n",
        "        dfs(root,0)\n",
        "        return res\n",
        "        \n",
        "       "
      ],
      "execution_count": null,
      "outputs": []
    }
  ]
}