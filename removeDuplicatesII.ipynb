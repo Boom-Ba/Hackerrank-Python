{
  "nbformat": 4,
  "nbformat_minor": 0,
  "metadata": {
    "colab": {
      "name": "removeDuplicatesII",
      "provenance": [],
      "collapsed_sections": [],
      "authorship_tag": "ABX9TyNSfFhb4m97Accq+IAj4gmv",
      "include_colab_link": true
    },
    "kernelspec": {
      "name": "python3",
      "display_name": "Python 3"
    },
    "language_info": {
      "name": "python"
    }
  },
  "cells": [
    {
      "cell_type": "markdown",
      "metadata": {
        "id": "view-in-github",
        "colab_type": "text"
      },
      "source": [
        "<a href=\"https://colab.research.google.com/github/Boom-Ba/Hackerrank-Python/blob/master/removeDuplicatesII.ipynb\" target=\"_parent\"><img src=\"https://colab.research.google.com/assets/colab-badge.svg\" alt=\"Open In Colab\"/></a>"
      ]
    },
    {
      "cell_type": "code",
      "metadata": {
        "id": "IWAh54px5UT-"
      },
      "source": [
        "class Solution:\n",
        "    def removeDuplicates(self, nums: List[int]) -> int:\n",
        "        if len(nums) < 2: return len(nums)\n",
        "        r, i = 2, 2\n",
        "        \n",
        "        while i<len(nums):\n",
        "            if nums[i]!=nums[r-2]:\n",
        "                nums[r]=nums[i]\n",
        "                r+=1\n",
        "            i+=1\n",
        "        return r"
      ],
      "execution_count": null,
      "outputs": []
    }
  ]
}