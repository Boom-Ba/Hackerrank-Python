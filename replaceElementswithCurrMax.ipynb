{
  "nbformat": 4,
  "nbformat_minor": 0,
  "metadata": {
    "colab": {
      "name": "replaceElementswithCurrMax",
      "provenance": [],
      "collapsed_sections": [],
      "authorship_tag": "ABX9TyNUws2vgQF8asD02xEUIsOh",
      "include_colab_link": true
    },
    "kernelspec": {
      "name": "python3",
      "display_name": "Python 3"
    }
  },
  "cells": [
    {
      "cell_type": "markdown",
      "metadata": {
        "id": "view-in-github",
        "colab_type": "text"
      },
      "source": [
        "<a href=\"https://colab.research.google.com/github/Boom-Ba/Hackerrank-Python/blob/master/replaceElementswithCurrMax.ipynb\" target=\"_parent\"><img src=\"https://colab.research.google.com/assets/colab-badge.svg\" alt=\"Open In Colab\"/></a>"
      ]
    },
    {
      "cell_type": "code",
      "metadata": {
        "id": "BxtkWfV31X94",
        "colab_type": "code",
        "colab": {}
      },
      "source": [
        "class Solution:\n",
        "    def replaceElements(self, arr: List[int]) -> List[int]:\n",
        "        #[17 18 5 4 6 1]\n",
        "        '''\n",
        "        18 6\n",
        "        '''\n",
        "        if not arr or len(arr)==0:\n",
        "            return []\n",
        "        res= [0]*len(arr)\n",
        "        max_ =-1\n",
        "        for i in range(len(arr)-1,-1,-1):\n",
        "            res[i]=max_\n",
        "            max_=max(max_, arr[i])\n",
        "        return res\n",
        "            "
      ],
      "execution_count": null,
      "outputs": []
    }
  ]
}