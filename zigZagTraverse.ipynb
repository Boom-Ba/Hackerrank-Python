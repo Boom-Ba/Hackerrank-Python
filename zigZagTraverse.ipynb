{
  "nbformat": 4,
  "nbformat_minor": 0,
  "metadata": {
    "colab": {
      "name": "zigZagTraverse.ipynb",
      "provenance": [],
      "authorship_tag": "ABX9TyNDt28Ue/oEFFZANnhbeBVW",
      "include_colab_link": true
    },
    "kernelspec": {
      "name": "python3",
      "display_name": "Python 3"
    }
  },
  "cells": [
    {
      "cell_type": "markdown",
      "metadata": {
        "id": "view-in-github",
        "colab_type": "text"
      },
      "source": [
        "<a href=\"https://colab.research.google.com/github/Boom-Ba/Hackerrank-Python/blob/master/zigZagTraverse.ipynb\" target=\"_parent\"><img src=\"https://colab.research.google.com/assets/colab-badge.svg\" alt=\"Open In Colab\"/></a>"
      ]
    },
    {
      "cell_type": "code",
      "metadata": {
        "id": "sZ-MixLrUMpt",
        "colab_type": "code",
        "colab": {}
      },
      "source": [
        "#bfs graph\n",
        "def zigZag(self, root):\n",
        "    \"\"\"\n",
        "    input: TreeNode root\n",
        "    return: Integer[]\n",
        "    \"\"\"\n",
        "    # write your solution here\n",
        "    if not root:\n",
        "      return []\n",
        "    front =[root]\n",
        "    res=[]\n",
        "    reverse = True\n",
        "    while front:\n",
        "      curr, next=[],[]\n",
        "      for node in front:\n",
        "        curr.append(node.val)\n",
        "        if node.left:\n",
        "          next.append(node.left)\n",
        "        if node.right:\n",
        "          next.append(node.right)\n",
        "      res.extend (curr[::-1] if reverse else curr)\n",
        "      front =next\n",
        "      reverse =not reverse\n",
        "    return res\n",
        "      "
      ],
      "execution_count": 1,
      "outputs": []
    }
  ]
}