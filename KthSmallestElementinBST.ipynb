{
  "nbformat": 4,
  "nbformat_minor": 0,
  "metadata": {
    "colab": {
      "name": "KthSmallestElementinBST",
      "provenance": [],
      "collapsed_sections": [],
      "authorship_tag": "ABX9TyNce+U6GgQxZUx604lBP7x+",
      "include_colab_link": true
    },
    "kernelspec": {
      "name": "python3",
      "display_name": "Python 3"
    }
  },
  "cells": [
    {
      "cell_type": "markdown",
      "metadata": {
        "id": "view-in-github",
        "colab_type": "text"
      },
      "source": [
        "<a href=\"https://colab.research.google.com/github/Boom-Ba/Hackerrank-Python/blob/master/KthSmallestElementinBST.ipynb\" target=\"_parent\"><img src=\"https://colab.research.google.com/assets/colab-badge.svg\" alt=\"Open In Colab\"/></a>"
      ]
    },
    {
      "cell_type": "code",
      "metadata": {
        "id": "BxtkWfV31X94",
        "colab_type": "code",
        "colab": {}
      },
      "source": [
        "# Definition for a binary tree node.\n",
        "# class TreeNode:\n",
        "#     def __init__(self, val=0, left=None, right=None):\n",
        "#         self.val = val\n",
        "#         self.left = left\n",
        "#         self.right = right\n",
        "class Solution:\n",
        "    def kthSmallest(self, root: TreeNode, k: int) -> int:\n",
        "        self.count =0\n",
        "        self.ret =-float('inf')\n",
        "        self.inorder(root,k)\n",
        "        return self.ret\n",
        "    def inorder(self,root,k):\n",
        "        if not root:\n",
        "            return\n",
        "        self.inorder(root.left,k)\n",
        "        self.count+=1\n",
        "        if self.count==k:\n",
        "            self.ret=root.val\n",
        "        if self.count>k:\n",
        "            return\n",
        "        self.inorder(root.right,k)\n",
        "        "
      ],
      "execution_count": null,
      "outputs": []
    }
  ]
}