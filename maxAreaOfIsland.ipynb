{
  "nbformat": 4,
  "nbformat_minor": 0,
  "metadata": {
    "colab": {
      "name": "maxAreaOfIsland",
      "provenance": [],
      "collapsed_sections": [],
      "authorship_tag": "ABX9TyO3Qk7CZ02YKECplngPYmE4",
      "include_colab_link": true
    },
    "kernelspec": {
      "name": "python3",
      "display_name": "Python 3"
    }
  },
  "cells": [
    {
      "cell_type": "markdown",
      "metadata": {
        "id": "view-in-github",
        "colab_type": "text"
      },
      "source": [
        "<a href=\"https://colab.research.google.com/github/Boom-Ba/Hackerrank-Python/blob/master/maxAreaOfIsland.ipynb\" target=\"_parent\"><img src=\"https://colab.research.google.com/assets/colab-badge.svg\" alt=\"Open In Colab\"/></a>"
      ]
    },
    {
      "cell_type": "code",
      "metadata": {
        "id": "BxtkWfV31X94",
        "colab_type": "code",
        "colab": {}
      },
      "source": [
        "class Solution:\n",
        "    def maxAreaOfIsland(self, grid: List[List[int]]) -> int:\n",
        "        if not grid:\n",
        "            return 0\n",
        "        row = len(grid)\n",
        "        col =len(grid[0])\n",
        "        \n",
        "        def dfs(grid, i, j):\n",
        "            if 0<=i<row and 0<=j<col and grid[i][j]:\n",
        "                grid[i][j]=0\n",
        "                return 1+ dfs(grid, i+1, j) + dfs(grid, i, j+1) +dfs(grid, i-1,j )+ dfs(grid, i,j-1)\n",
        "            return 0\n",
        "        \n",
        "        result=0\n",
        "        for i in range(row):\n",
        "            for j in range(col):\n",
        "                result =max(result,dfs(grid, i,j))\n",
        "        return result\n",
        "                    \n",
        "        "
      ],
      "execution_count": null,
      "outputs": []
    }
  ]
}