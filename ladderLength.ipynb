{
  "nbformat": 4,
  "nbformat_minor": 0,
  "metadata": {
    "colab": {
      "name": "ladderLength.ipynb",
      "provenance": [],
      "authorship_tag": "ABX9TyONGlChY7qVjMbiFZnvjsNs",
      "include_colab_link": true
    },
    "kernelspec": {
      "name": "python3",
      "display_name": "Python 3"
    }
  },
  "cells": [
    {
      "cell_type": "markdown",
      "metadata": {
        "id": "view-in-github",
        "colab_type": "text"
      },
      "source": [
        "<a href=\"https://colab.research.google.com/github/Boom-Ba/Hackerrank-Python/blob/master/ladderLength.ipynb\" target=\"_parent\"><img src=\"https://colab.research.google.com/assets/colab-badge.svg\" alt=\"Open In Colab\"/></a>"
      ]
    },
    {
      "cell_type": "code",
      "metadata": {
        "id": "sZ-MixLrUMpt",
        "colab_type": "code",
        "colab": {}
      },
      "source": [
        "#bfs\n",
        "class Solution:\n",
        "    def ladderLength(self, beginWord: str, endWord: str, wordList: List[str]) -> int:\n",
        "        ans = 1\n",
        "        wordList= set(wordList)\n",
        "        if endWord not in wordList:\n",
        "            return 0\n",
        "        front = [beginWord]\n",
        "        visited=set(front)\n",
        "        while front:\n",
        "            next=[]\n",
        "            for word in front:\n",
        "                for i in range(len(word)):\n",
        "                    for c in string.ascii_lowercase:\n",
        "                        new = word[:i]+c+word[i+1:]\n",
        "                        if new ==endWord:\n",
        "                            return ans+1\n",
        "                        if new in wordList and new not in visited:\n",
        "                            visited.add(new)\n",
        "                            next.append(new)\n",
        "            front =next\n",
        "            ans+=1  \n",
        "        #cannot build a graph with one char distance\n",
        "        return 0\n",
        "        \n",
        "        \n",
        "        "
      ],
      "execution_count": 1,
      "outputs": []
    }
  ]
}