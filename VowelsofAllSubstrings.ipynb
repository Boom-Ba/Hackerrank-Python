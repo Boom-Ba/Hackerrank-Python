{
  "nbformat": 4,
  "nbformat_minor": 0,
  "metadata": {
    "colab": {
      "name": "VowelsofAllSubstrings.ipynb",
      "provenance": [],
      "authorship_tag": "ABX9TyO51+C7BrZz88D/SFXfNrP8",
      "include_colab_link": true
    },
    "kernelspec": {
      "name": "python3",
      "display_name": "Python 3"
    },
    "language_info": {
      "name": "python"
    }
  },
  "cells": [
    {
      "cell_type": "markdown",
      "metadata": {
        "id": "view-in-github",
        "colab_type": "text"
      },
      "source": [
        "<a href=\"https://colab.research.google.com/github/Boom-Ba/Hackerrank-Python/blob/master/VowelsofAllSubstrings.ipynb\" target=\"_parent\"><img src=\"https://colab.research.google.com/assets/colab-badge.svg\" alt=\"Open In Colab\"/></a>"
      ]
    },
    {
      "cell_type": "code",
      "metadata": {
        "id": "mODl8W9Be475"
      },
      "source": [
        "class Solution:\n",
        "    def countVowels(self, word: str) -> int:\n",
        "        n =len(word)\n",
        "        count =0\n",
        "        for i, c in enumerate(word):\n",
        "            print(c)\n",
        "            if c in 'aeiou':\n",
        "                \n",
        "                \"\"\"\n",
        "                noosabasboosa\n",
        "                    ^\n",
        "                    a\n",
        "                   sa\n",
        "                  osa\n",
        "                 oosa\n",
        "                 ... a\n",
        "                     aba\n",
        "                    ... \n",
        "                \n",
        "                left_count*right_count for a voewl char\n",
        "                \"\"\"\n",
        "                count+=(i+1)*(n-i)\n",
        "        return count "
      ],
      "execution_count": null,
      "outputs": []
    }
  ]
}