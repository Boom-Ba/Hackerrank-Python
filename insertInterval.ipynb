{
  "nbformat": 4,
  "nbformat_minor": 0,
  "metadata": {
    "colab": {
      "name": "insertInterval,ipynb",
      "provenance": [],
      "collapsed_sections": [],
      "authorship_tag": "ABX9TyNzUKPPTitdPKN4yxKZUxLf",
      "include_colab_link": true
    },
    "kernelspec": {
      "name": "python3",
      "display_name": "Python 3"
    },
    "language_info": {
      "name": "python"
    }
  },
  "cells": [
    {
      "cell_type": "markdown",
      "metadata": {
        "id": "view-in-github",
        "colab_type": "text"
      },
      "source": [
        "<a href=\"https://colab.research.google.com/github/Boom-Ba/Hackerrank-Python/blob/master/insertInterval.ipynb\" target=\"_parent\"><img src=\"https://colab.research.google.com/assets/colab-badge.svg\" alt=\"Open In Colab\"/></a>"
      ]
    },
    {
      "cell_type": "code",
      "metadata": {
        "id": "IWAh54px5UT-"
      },
      "source": [
        "class Solution:\n",
        "    def insertInterval(self, intervals: List[List[int]], newInterval: List[int]) -> List[List[int]]:\n",
        "        res =[]\n",
        "        \n",
        "        for interval in intervals:\n",
        "            if interval[0]>newInterval[1]:\n",
        "                res.append(newInterval)\n",
        "                newInterval=interval\n",
        "            elif interval[1]< newInterval[0]:\n",
        "                res.append(interval)\n",
        "            elif newInterval[0]<=interval[1] or interval[1]<=newInterval[1]:\n",
        "                newInterval[0]=min(interval[0],newInterval[0])\n",
        "                newInterval[1]=max(interval[1],newInterval[1])\n",
        "        res.append(newInterval)\n",
        "        return res"
      ],
      "execution_count": null,
      "outputs": []
    }
  ]
}