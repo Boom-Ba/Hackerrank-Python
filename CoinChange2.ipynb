{
  "nbformat": 4,
  "nbformat_minor": 0,
  "metadata": {
    "colab": {
      "name": "CoinChange2.ipynb",
      "provenance": [],
      "collapsed_sections": [],
      "authorship_tag": "ABX9TyN3ipPNn4WgCXHYq5yzlma8",
      "include_colab_link": true
    },
    "kernelspec": {
      "name": "python3",
      "display_name": "Python 3"
    }
  },
  "cells": [
    {
      "cell_type": "markdown",
      "metadata": {
        "id": "view-in-github",
        "colab_type": "text"
      },
      "source": [
        "<a href=\"https://colab.research.google.com/github/Boom-Ba/Hackerrank-Python/blob/master/CoinChange2.ipynb\" target=\"_parent\"><img src=\"https://colab.research.google.com/assets/colab-badge.svg\" alt=\"Open In Colab\"/></a>"
      ]
    },
    {
      "cell_type": "code",
      "metadata": {
        "id": "BxtkWfV31X94",
        "colab_type": "code",
        "colab": {}
      },
      "source": [
        "class Solution:\n",
        "    def change(self, amount: int, coins: List[int]) -> int:\n",
        "        dp =[0]*(amount+1)\n",
        "        dp[0]=1\n",
        "        for i in coins:\n",
        "            for j in range(i,amount+1):\n",
        "                dp[j] +=dp[j-i]\n",
        "        return dp[-1]\n",
        "        "
      ],
      "execution_count": null,
      "outputs": []
    }
  ]
}