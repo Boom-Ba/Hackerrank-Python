{
  "nbformat": 4,
  "nbformat_minor": 0,
  "metadata": {
    "colab": {
      "name": "UniqueBinarySearchTreesII.ipynb",
      "provenance": [],
      "authorship_tag": "ABX9TyN1Bvv/efrbDxZ7SYAkekpd",
      "include_colab_link": true
    },
    "kernelspec": {
      "name": "python3",
      "display_name": "Python 3"
    },
    "language_info": {
      "name": "python"
    }
  },
  "cells": [
    {
      "cell_type": "markdown",
      "metadata": {
        "id": "view-in-github",
        "colab_type": "text"
      },
      "source": [
        "<a href=\"https://colab.research.google.com/github/Boom-Ba/Hackerrank-Python/blob/master/UniqueBinarySearchTreesII.ipynb\" target=\"_parent\"><img src=\"https://colab.research.google.com/assets/colab-badge.svg\" alt=\"Open In Colab\"/></a>"
      ]
    },
    {
      "cell_type": "code",
      "metadata": {
        "id": "mODl8W9Be475"
      },
      "source": [
        "# Definition for a binary tree node.\n",
        "# class TreeNode:\n",
        "#     def __init__(self, val=0, left=None, right=None):\n",
        "#         self.val = val\n",
        "#         self.left = left\n",
        "#         self.right = right\n",
        "class Solution:\n",
        "    def generateTrees(self, n: int) -> List[Optional[TreeNode]]:\n",
        "        @lru_cache(None)\n",
        "        def dfs(left, right):\n",
        "            if left > right: return [None]\n",
        "            if left == right: return [TreeNode(left)]\n",
        "            ans = []\n",
        "            for root in range(left, right+1):\n",
        "                leftNodes = dfs(left, root - 1)\n",
        "                rightNodes = dfs(root+1, right)\n",
        "                for leftNode in leftNodes:\n",
        "                    for rightNode in rightNodes:\n",
        "                        rootNode = TreeNode(root, leftNode, rightNode)\n",
        "                        ans.append(rootNode)\n",
        "            return ans\n",
        "        \n",
        "        return dfs(1, n)\n",
        "                "
      ],
      "execution_count": null,
      "outputs": []
    }
  ]
}