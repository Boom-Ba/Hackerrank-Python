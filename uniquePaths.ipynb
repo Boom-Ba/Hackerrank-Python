{
  "nbformat": 4,
  "nbformat_minor": 0,
  "metadata": {
    "colab": {
      "name": "uniquePaths.ipynb",
      "provenance": [],
      "collapsed_sections": [],
      "authorship_tag": "ABX9TyOX9POQ9ssHNSLMw9HNwIds",
      "include_colab_link": true
    },
    "kernelspec": {
      "name": "python3",
      "display_name": "Python 3"
    },
    "language_info": {
      "name": "python"
    }
  },
  "cells": [
    {
      "cell_type": "markdown",
      "metadata": {
        "id": "view-in-github",
        "colab_type": "text"
      },
      "source": [
        "<a href=\"https://colab.research.google.com/github/Boom-Ba/Hackerrank-Python/blob/master/uniquePaths.ipynb\" target=\"_parent\"><img src=\"https://colab.research.google.com/assets/colab-badge.svg\" alt=\"Open In Colab\"/></a>"
      ]
    },
    {
      "cell_type": "code",
      "metadata": {
        "id": "IWAh54px5UT-"
      },
      "source": [
        "class Solution:\n",
        "    def uniquePaths(self, m: int, n: int) -> int:   \n",
        "        #bottom -up\n",
        "        matrix =[[0 for _ in range(n)] for _ in range(m)]\n",
        "        matrix[-1]=[1 for _ in range(n)]\n",
        "        for i in range(m-2,-1,-1):\n",
        "            matrix[i][-1]=1\n",
        "            for j in range(n-2,-1,-1):\n",
        "                matrix[i][j]=matrix[i][j+1]+matrix[i+1][j]\n",
        "        return matrix[0][0]\n",
        "    "
      ],
      "execution_count": null,
      "outputs": []
    }
  ]
}