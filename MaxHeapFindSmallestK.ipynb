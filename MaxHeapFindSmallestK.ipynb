{
  "nbformat": 4,
  "nbformat_minor": 0,
  "metadata": {
    "colab": {
      "name": "MaxHeapFindSmallestK",
      "provenance": [],
      "collapsed_sections": [],
      "authorship_tag": "ABX9TyPAJCYBlHO4xjPAExc5HQuC",
      "include_colab_link": true
    },
    "kernelspec": {
      "name": "python3",
      "display_name": "Python 3"
    }
  },
  "cells": [
    {
      "cell_type": "markdown",
      "metadata": {
        "id": "view-in-github",
        "colab_type": "text"
      },
      "source": [
        "<a href=\"https://colab.research.google.com/github/Boom-Ba/Hackerrank-Python/blob/master/MaxHeapFindSmallestK.ipynb\" target=\"_parent\"><img src=\"https://colab.research.google.com/assets/colab-badge.svg\" alt=\"Open In Colab\"/></a>"
      ]
    },
    {
      "cell_type": "code",
      "metadata": {
        "id": "TY1MWMOQSfn8",
        "outputId": "e119ca97-5947-4341-9d17-35f8ce0c295d",
        "colab": {
          "base_uri": "https://localhost:8080/",
          "height": 34
        }
      },
      "source": [
        "#find smllest k by using max heap\n",
        "\n",
        "def findK(array,k):\n",
        "  if not array:\n",
        "    return array\n",
        "  if len(array)<k:\n",
        "    return array\n",
        "  res =[-e for e in array[0:k]]\n",
        "  #neg each e\n",
        "  heapq.heapify(array)\n",
        "  #build max heap\n",
        "  for i in range(k, len(array)):\n",
        "    #less than top in maxheap \n",
        "    if array[i] < -res[0]:\n",
        "      heapq.heappop(res)\n",
        "      heapq.heappush(-array[i])\n",
        "  return [-e for e in res]\n"
      ],
      "execution_count": 25,
      "outputs": [
        {
          "output_type": "execute_result",
          "data": {
            "text/plain": [
              "[1, 2, 3]"
            ]
          },
          "metadata": {
            "tags": []
          },
          "execution_count": 25
        }
      ]
    },
    {
      "cell_type": "code",
      "metadata": {
        "id": "yPF0AR_znsuQ"
      },
      "source": [
        ""
      ],
      "execution_count": null,
      "outputs": []
    }
  ]
}