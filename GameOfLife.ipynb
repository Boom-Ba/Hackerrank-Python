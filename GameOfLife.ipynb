{
  "nbformat": 4,
  "nbformat_minor": 0,
  "metadata": {
    "colab": {
      "name": "GameOfLife.ipynb",
      "provenance": [],
      "authorship_tag": "ABX9TyP65ZPj5q1dFNBkAUaDaYr1",
      "include_colab_link": true
    },
    "kernelspec": {
      "name": "python3",
      "display_name": "Python 3"
    },
    "language_info": {
      "name": "python"
    }
  },
  "cells": [
    {
      "cell_type": "markdown",
      "metadata": {
        "id": "view-in-github",
        "colab_type": "text"
      },
      "source": [
        "<a href=\"https://colab.research.google.com/github/Boom-Ba/Hackerrank-Python/blob/master/GameOfLife.ipynb\" target=\"_parent\"><img src=\"https://colab.research.google.com/assets/colab-badge.svg\" alt=\"Open In Colab\"/></a>"
      ]
    },
    {
      "cell_type": "code",
      "metadata": {
        "id": "mODl8W9Be475"
      },
      "source": [
        "class Solution:\n",
        "    def gameOfLife(self, board: List[List[int]]) -> None:\n",
        "        \"\"\"\n",
        "        Do not return anything, modify board in-place instead.\n",
        "        \n",
        "        '1' - live if 2,3 nbr alive else die\n",
        "        '0' - live if 3 nbr alive else die\n",
        "        \"\"\"\n",
        "        \n",
        "        \n",
        "        m , n=len(board),len(board[0])\n",
        "        \n",
        "        copy=[[0 for _ in range(n)] for _ in range(m)]\n",
        "      \n",
        "        dirs=[[0,-1],[0,1],[-1,0],[1,0],[1,1],[-1,-1],[-1,1],[1,-1]]\n",
        "        \n",
        "        for i in range(m):\n",
        "            for j in range(n):\n",
        "                liveCount=0\n",
        "                for d in dirs:\n",
        "                    next_i=i+d[0]\n",
        "                    next_j=j+d[1]\n",
        "                    \n",
        "                    if 0<=next_i<m and 0<=next_j<n and board[next_i][next_j]==1:\n",
        "                        liveCount+=1\n",
        "                if board[i][j]==0 and liveCount==3:\n",
        "                    copy[i][j]=1\n",
        "                elif board[i][j]==1 and liveCount in [2,3]:\n",
        "                    copy[i][j]=1\n",
        "        for i in range(m):\n",
        "            for j in range(n):\n",
        "                board[i][j]=copy[i][j]"
      ],
      "execution_count": null,
      "outputs": []
    }
  ]
}