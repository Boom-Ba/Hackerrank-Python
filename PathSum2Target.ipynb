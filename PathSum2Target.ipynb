{
  "nbformat": 4,
  "nbformat_minor": 0,
  "metadata": {
    "colab": {
      "name": "PathSum2Target",
      "provenance": [],
      "authorship_tag": "ABX9TyMDanrQvoDcuME4uh+K5N/0",
      "include_colab_link": true
    },
    "kernelspec": {
      "name": "python3",
      "display_name": "Python 3"
    }
  },
  "cells": [
    {
      "cell_type": "markdown",
      "metadata": {
        "id": "view-in-github",
        "colab_type": "text"
      },
      "source": [
        "<a href=\"https://colab.research.google.com/github/Boom-Ba/Hackerrank-Python/blob/master/PathSum2Target.ipynb\" target=\"_parent\"><img src=\"https://colab.research.google.com/assets/colab-badge.svg\" alt=\"Open In Colab\"/></a>"
      ]
    },
    {
      "cell_type": "code",
      "metadata": {
        "id": "TY1MWMOQSfn8"
      },
      "source": [
        "class Solution:\n",
        "  def pathSumToTarget(self,root, t):\n",
        "    self.ret =False\n",
        "    self.helper(root, t, 0)\n",
        "    return self.ret\n",
        "\n",
        "  def helper(self,root, t, currsum):\n",
        "    if not root:\n",
        "      return \n",
        "    if not root.left and not root.right:\n",
        "      if currsum+root.val ==t:\n",
        "        self.ret =True\n",
        "        return \n",
        "    self.helper(root.left,t,currsum+root.val)\n",
        "    self.helper(root.right,t,currsum+root.val)"
      ],
      "execution_count": 12,
      "outputs": []
    },
    {
      "cell_type": "code",
      "metadata": {
        "id": "yPF0AR_znsuQ"
      },
      "source": [
        ""
      ],
      "execution_count": null,
      "outputs": []
    }
  ]
}