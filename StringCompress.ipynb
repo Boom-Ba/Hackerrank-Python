{
  "nbformat": 4,
  "nbformat_minor": 0,
  "metadata": {
    "colab": {
      "name": "StringCompress.ipynb",
      "provenance": [],
      "authorship_tag": "ABX9TyOSrB3nih9rVRgzzrumT/LL",
      "include_colab_link": true
    },
    "kernelspec": {
      "name": "python3",
      "display_name": "Python 3"
    },
    "language_info": {
      "name": "python"
    }
  },
  "cells": [
    {
      "cell_type": "markdown",
      "metadata": {
        "id": "view-in-github",
        "colab_type": "text"
      },
      "source": [
        "<a href=\"https://colab.research.google.com/github/Boom-Ba/Hackerrank-Python/blob/master/StringCompress.ipynb\" target=\"_parent\"><img src=\"https://colab.research.google.com/assets/colab-badge.svg\" alt=\"Open In Colab\"/></a>"
      ]
    },
    {
      "cell_type": "code",
      "metadata": {
        "colab": {
          "base_uri": "https://localhost:8080/"
        },
        "id": "yj8oUhhy0dgM",
        "outputId": "4cddc6c6-6a4b-43f3-f5b9-fb8278fdcb71"
      },
      "source": [
        "def string_compress(s):\n",
        "  s=list(s)\n",
        "  i,j=0,0\n",
        "  while i<len(s):\n",
        "\n",
        "    s[j]=s[i]\n",
        "    count=1\n",
        "\n",
        "    while i+1<len(s) and s[i]==s[i+1]:\n",
        "      i+=1\n",
        "      count+=1\n",
        "    if count>1:\n",
        "      s[j+1]=str(count)\n",
        "      j+=1\n",
        "\n",
        "    i+=1\n",
        "    j+=1\n",
        "\n",
        "  return s[:j]\n",
        "res=string_compress('aabcd')\n",
        "print(res)"
      ],
      "execution_count": 24,
      "outputs": [
        {
          "output_type": "stream",
          "name": "stdout",
          "text": [
            "['a', '2', 'b', 'c', 'd']\n"
          ]
        }
      ]
    },
    {
      "cell_type": "code",
      "metadata": {
        "id": "TSWmo29N0fC7"
      },
      "source": [
        ""
      ],
      "execution_count": null,
      "outputs": []
    }
  ]
}