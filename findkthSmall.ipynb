{
  "nbformat": 4,
  "nbformat_minor": 0,
  "metadata": {
    "colab": {
      "name": "findkthSmall",
      "provenance": [],
      "collapsed_sections": [],
      "authorship_tag": "ABX9TyMJzr+1Lf9vMVHXhciDK1l5",
      "include_colab_link": true
    },
    "kernelspec": {
      "name": "python3",
      "display_name": "Python 3"
    }
  },
  "cells": [
    {
      "cell_type": "markdown",
      "metadata": {
        "id": "view-in-github",
        "colab_type": "text"
      },
      "source": [
        "<a href=\"https://colab.research.google.com/github/Boom-Ba/Hackerrank-Python/blob/master/findkthSmall.ipynb\" target=\"_parent\"><img src=\"https://colab.research.google.com/assets/colab-badge.svg\" alt=\"Open In Colab\"/></a>"
      ]
    },
    {
      "cell_type": "code",
      "metadata": {
        "id": "TY1MWMOQSfn8",
        "outputId": "4d54fea7-b386-4a9b-b18b-88d3445eec40",
        "colab": {
          "base_uri": "https://localhost:8080/",
          "height": 34
        }
      },
      "source": [
        "#find kth small\n",
        "import heapq\n",
        "def find(array,k):\n",
        "  if not array:\n",
        "    return array\n",
        "  res =[]\n",
        "  #sort\n",
        "  heapq.heapify(array)\n",
        "  #find\n",
        "  for i in range(min(k, len(array))):\n",
        "    res.append(heapq.heappop(array))\n",
        "  return res[-1]\n",
        "    \n",
        "array =[-10,1,10,2,7,3,4]\n",
        "find(array,2)"
      ],
      "execution_count": 18,
      "outputs": [
        {
          "output_type": "execute_result",
          "data": {
            "text/plain": [
              "1"
            ]
          },
          "metadata": {
            "tags": []
          },
          "execution_count": 18
        }
      ]
    },
    {
      "cell_type": "code",
      "metadata": {
        "id": "yPF0AR_znsuQ"
      },
      "source": [
        ""
      ],
      "execution_count": null,
      "outputs": []
    }
  ]
}