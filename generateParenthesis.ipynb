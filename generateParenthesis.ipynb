{
  "nbformat": 4,
  "nbformat_minor": 0,
  "metadata": {
    "colab": {
      "name": "generateParenthesis",
      "provenance": [],
      "collapsed_sections": [],
      "authorship_tag": "ABX9TyPuDAyLLhupldzVMAc1cNaS",
      "include_colab_link": true
    },
    "kernelspec": {
      "name": "python3",
      "display_name": "Python 3"
    }
  },
  "cells": [
    {
      "cell_type": "markdown",
      "metadata": {
        "id": "view-in-github",
        "colab_type": "text"
      },
      "source": [
        "<a href=\"https://colab.research.google.com/github/Boom-Ba/Hackerrank-Python/blob/master/generateParenthesis.ipynb\" target=\"_parent\"><img src=\"https://colab.research.google.com/assets/colab-badge.svg\" alt=\"Open In Colab\"/></a>"
      ]
    },
    {
      "cell_type": "code",
      "metadata": {
        "id": "BxtkWfV31X94",
        "colab_type": "code",
        "colab": {}
      },
      "source": [
        "class Solution:\n",
        "    def generateParenthesis(self, n: int) -> List[str]:\n",
        "        \n",
        "        def bt(n, solutions, solution, leftsize,rightsize):\n",
        "            if leftsize==rightsize==n: #(((\n",
        "                solutions.append(''.join(solution[:]))\n",
        "                return\n",
        "            if leftsize<=n:\n",
        "                solution.append('(')\n",
        "                bt(n,solutions,solution,leftsize+1,rightsize)\n",
        "                solution.pop()\n",
        "            if rightsize<leftsize:\n",
        "                solution.append(')')\n",
        "                bt(n,solutions,solution,leftsize,rightsize+1)\n",
        "                solution.pop()\n",
        "            return\n",
        "        solutions,solution =[],[]\n",
        "        leftsize,rightsize=0,0\n",
        "        bt(n,solutions,solution,leftsize,rightsize)\n",
        "        return solutions"
      ],
      "execution_count": null,
      "outputs": []
    }
  ]
}