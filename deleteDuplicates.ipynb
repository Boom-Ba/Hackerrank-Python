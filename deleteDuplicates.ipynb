{
  "nbformat": 4,
  "nbformat_minor": 0,
  "metadata": {
    "colab": {
      "name": "deleteDuplicates.ipynb",
      "provenance": [],
      "collapsed_sections": [],
      "authorship_tag": "ABX9TyPAPFKzHgIP93FfG3R+pLS/",
      "include_colab_link": true
    },
    "kernelspec": {
      "name": "python3",
      "display_name": "Python 3"
    }
  },
  "cells": [
    {
      "cell_type": "markdown",
      "metadata": {
        "id": "view-in-github",
        "colab_type": "text"
      },
      "source": [
        "<a href=\"https://colab.research.google.com/github/Boom-Ba/Hackerrank-Python/blob/master/deleteDuplicates.ipynb\" target=\"_parent\"><img src=\"https://colab.research.google.com/assets/colab-badge.svg\" alt=\"Open In Colab\"/></a>"
      ]
    },
    {
      "cell_type": "code",
      "metadata": {
        "id": "BxtkWfV31X94",
        "colab_type": "code",
        "colab": {}
      },
      "source": [
        "# Definition for singly-linked list.\n",
        "# class ListNode:\n",
        "#     def __init__(self, val=0, next=None):\n",
        "#         self.val = val\n",
        "#         self.next = next\n",
        "class Solution:\n",
        "    def deleteDuplicates(self, head: ListNode) -> ListNode:\n",
        "        if not head:\n",
        "            return None\n",
        "        if not head.next:\n",
        "            return head\n",
        "        prev=None\n",
        "        curr=head\n",
        "        while curr: # curr nextN\n",
        "            nextN =curr.next\n",
        "            if nextN and nextN.val ==curr.val:\n",
        "                curr.next= curr.next.next\n",
        "            else:\n",
        "                prev, curr= curr, curr.next\n",
        "        return head"
      ],
      "execution_count": null,
      "outputs": []
    }
  ]
}