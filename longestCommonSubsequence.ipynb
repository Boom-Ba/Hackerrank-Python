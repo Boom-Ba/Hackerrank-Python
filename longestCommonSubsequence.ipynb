{
  "nbformat": 4,
  "nbformat_minor": 0,
  "metadata": {
    "colab": {
      "name": "longestCommonSubsequence",
      "provenance": [],
      "collapsed_sections": [],
      "authorship_tag": "ABX9TyNumC/LotzZ6lMGVgB6mR9i",
      "include_colab_link": true
    },
    "kernelspec": {
      "name": "python3",
      "display_name": "Python 3"
    }
  },
  "cells": [
    {
      "cell_type": "markdown",
      "metadata": {
        "id": "view-in-github",
        "colab_type": "text"
      },
      "source": [
        "<a href=\"https://colab.research.google.com/github/Boom-Ba/Hackerrank-Python/blob/master/longestCommonSubsequence.ipynb\" target=\"_parent\"><img src=\"https://colab.research.google.com/assets/colab-badge.svg\" alt=\"Open In Colab\"/></a>"
      ]
    },
    {
      "cell_type": "code",
      "metadata": {
        "id": "BxtkWfV31X94",
        "colab_type": "code",
        "colab": {}
      },
      "source": [
        "class Solution:\n",
        "    def longestCommonSubsequence(self, text1: str, text2: str) -> int:\n",
        "        n = len(text1)\n",
        "        m = len(text2)\n",
        "        if n ==0 or m==0:\n",
        "            return 0\n",
        "        t1,t2=list(text1),list(text2)\n",
        "        dp =[[0 for x in range(m+1)] for y in range(n+1)]\n",
        "        for i in range(1, n+1):\n",
        "            for j in range(1,m+1):\n",
        "                if t1[i-1] ==t2[j-1]:\n",
        "                    dp[i][j]=dp[i-1][j-1]+1\n",
        "                else:\n",
        "                    dp[i][j] = max(dp[i-1][j],dp[i][j-1])\n",
        "            \n",
        "        return dp[-1][-1]"
      ],
      "execution_count": null,
      "outputs": []
    }
  ]
}