{
  "nbformat": 4,
  "nbformat_minor": 0,
  "metadata": {
    "colab": {
      "name": "lengthOfLongestSubstring.ipynb",
      "provenance": [],
      "collapsed_sections": [],
      "authorship_tag": "ABX9TyPCCdp08mItKMzTM8MdrQ+B",
      "include_colab_link": true
    },
    "kernelspec": {
      "name": "python3",
      "display_name": "Python 3"
    }
  },
  "cells": [
    {
      "cell_type": "markdown",
      "metadata": {
        "id": "view-in-github",
        "colab_type": "text"
      },
      "source": [
        "<a href=\"https://colab.research.google.com/github/Boom-Ba/Hackerrank-Python/blob/master/lengthOfLongestSubstring.ipynb\" target=\"_parent\"><img src=\"https://colab.research.google.com/assets/colab-badge.svg\" alt=\"Open In Colab\"/></a>"
      ]
    },
    {
      "cell_type": "code",
      "metadata": {
        "id": "BxtkWfV31X94",
        "colab_type": "code",
        "colab": {}
      },
      "source": [
        "class Solution:\n",
        "    def lengthOfLongestSubstring(self, s: str) -> int:\n",
        "        maxL =0\n",
        "        start= -1\n",
        "        d={}\n",
        "        #abb\n",
        "        #d{a:1,b:2}\n",
        "        #start=0\n",
        "        for i in range(len(s)):\n",
        "            if s[i] in d and d[s[i]]>start:\n",
        "                #update left_b\n",
        "                start = d[s[i]]\n",
        "                d[s[i]] =i\n",
        "            else:\n",
        "                d[s[i]] =i\n",
        "                #pwwkew\n",
        "                maxL =max(maxL, d[s[i]]-start)\n",
        "        return maxL"
      ],
      "execution_count": null,
      "outputs": []
    }
  ]
}