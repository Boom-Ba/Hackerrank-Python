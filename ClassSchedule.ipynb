{
  "nbformat": 4,
  "nbformat_minor": 0,
  "metadata": {
    "colab": {
      "name": "ClassSchedule",
      "provenance": [],
      "authorship_tag": "ABX9TyNdtim4QZQw8EbfwFPQkCuD",
      "include_colab_link": true
    },
    "kernelspec": {
      "name": "python3",
      "display_name": "Python 3"
    }
  },
  "cells": [
    {
      "cell_type": "markdown",
      "metadata": {
        "id": "view-in-github",
        "colab_type": "text"
      },
      "source": [
        "<a href=\"https://colab.research.google.com/github/Boom-Ba/Hackerrank-Python/blob/master/ClassSchedule.ipynb\" target=\"_parent\"><img src=\"https://colab.research.google.com/assets/colab-badge.svg\" alt=\"Open In Colab\"/></a>"
      ]
    },
    {
      "cell_type": "code",
      "metadata": {
        "id": "Q9iYlpC-zU9_",
        "colab_type": "code",
        "colab": {}
      },
      "source": [
        "class Solution:\n",
        "    def canFinish(self, numCourses: int, prerequisites: List[List[int]]) -> bool:\n",
        "        if not prerequisites:\n",
        "            return True\n",
        "        indegree= [0] * numCourses\n",
        "        graph =[[] for _ in range(numCourses)]\n",
        "\n",
        "        \n",
        "        for i in prerequisites:\n",
        "            c, p =i\n",
        "            graph[p].append(c)\n",
        "            indegree[c]+=1\n",
        "        \n",
        "        from collections import deque\n",
        "        front = deque()\n",
        "        for i in range(numCourses):\n",
        "            if indegree[i] ==0:\n",
        "                front.append(i)\n",
        "        while front:\n",
        "            p= front.popleft()\n",
        "            numCourses-=1\n",
        "            for i in graph[p]:#1\n",
        "                indegree[i]-=1            \n",
        "                if indegree[i]==0:\n",
        "                    front.append(i)              \n",
        "        return not numCourses\n",
        "            \n",
        "        "
      ],
      "execution_count": null,
      "outputs": []
    }
  ]
}