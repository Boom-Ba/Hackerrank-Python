{
  "nbformat": 4,
  "nbformat_minor": 0,
  "metadata": {
    "colab": {
      "name": "rightSideView.ipynb",
      "provenance": [],
      "collapsed_sections": [],
      "authorship_tag": "ABX9TyNSpmNse6awxyw+EeQSi+s+",
      "include_colab_link": true
    },
    "kernelspec": {
      "name": "python3",
      "display_name": "Python 3"
    }
  },
  "cells": [
    {
      "cell_type": "markdown",
      "metadata": {
        "id": "view-in-github",
        "colab_type": "text"
      },
      "source": [
        "<a href=\"https://colab.research.google.com/github/Boom-Ba/Hackerrank-Python/blob/master/rightSideView.ipynb\" target=\"_parent\"><img src=\"https://colab.research.google.com/assets/colab-badge.svg\" alt=\"Open In Colab\"/></a>"
      ]
    },
    {
      "cell_type": "code",
      "metadata": {
        "id": "BxtkWfV31X94",
        "colab_type": "code",
        "colab": {}
      },
      "source": [
        "class MinStack:\n",
        "\n",
        "    def __init__(self):\n",
        "        \"\"\"\n",
        "        initialize your data structure here.\n",
        "        \"\"\"\n",
        "        self.s1=[]\n",
        "        self.s2=[]\n",
        "        \n",
        "\n",
        "    def push(self, x: int) -> None:\n",
        "        self.s1.append(x)\n",
        "        if not self.s2 or self.s2[-1]>=x:\n",
        "            self.s2.append(x)\n",
        "        \n",
        "\n",
        "    def pop(self) -> None:\n",
        "        if not self.s1:\n",
        "            return -1\n",
        "        item = self.s1.pop()\n",
        "        if self.s2 and self.s2[-1]==item:\n",
        "            self.s2.pop()\n",
        "        return item \n",
        "        \n",
        "\n",
        "    def top(self) -> int:\n",
        "        return self.s1[-1] if self.s1 else -1\n",
        "        \n",
        "        \n",
        "\n",
        "    def getMin(self) -> int:\n",
        "        return self.s2[-1] if self.s2 else -1\n",
        "        \n",
        "\n",
        "\n",
        "# Your MinStack object will be instantiated and called as such:\n",
        "# obj = MinStack()\n",
        "# obj.push(x)\n",
        "# obj.pop()\n",
        "# param_3 = obj.top()\n",
        "# param_4 = obj.getMin()"
      ],
      "execution_count": null,
      "outputs": []
    }
  ]
}
