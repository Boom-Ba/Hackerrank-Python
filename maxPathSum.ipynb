{
  "nbformat": 4,
  "nbformat_minor": 0,
  "metadata": {
    "colab": {
      "name": "maxPathSum",
      "provenance": [],
      "authorship_tag": "ABX9TyPxJ/Qrg5xK+mjqZ0CIoI0o",
      "include_colab_link": true
    },
    "kernelspec": {
      "name": "python3",
      "display_name": "Python 3"
    }
  },
  "cells": [
    {
      "cell_type": "markdown",
      "metadata": {
        "id": "view-in-github",
        "colab_type": "text"
      },
      "source": [
        "<a href=\"https://colab.research.google.com/github/Boom-Ba/Hackerrank-Python/blob/master/maxPathSum.ipynb\" target=\"_parent\"><img src=\"https://colab.research.google.com/assets/colab-badge.svg\" alt=\"Open In Colab\"/></a>"
      ]
    },
    {
      "cell_type": "code",
      "metadata": {
        "id": "TY1MWMOQSfn8"
      },
      "source": [
        "class Solution:\n",
        "  def maxPathSum(self, root):\n",
        "    self.ret =-float('inf')\n",
        "    self.helper(root,0)\n",
        "    return self.ret\n",
        "  def helper(self,root, currsum):\n",
        "    if not root:\n",
        "      return \n",
        "    if not root.left and not root.right:\n",
        "      self.ret =max(self.ret, currsum+root.val)\n",
        "      return\n",
        "    self.helper(root.left, currsum+root.val)\n",
        "    self.helper(root.right, currsum+root.val)\n"
      ],
      "execution_count": 12,
      "outputs": []
    },
    {
      "cell_type": "code",
      "metadata": {
        "id": "yPF0AR_znsuQ"
      },
      "source": [
        ""
      ],
      "execution_count": null,
      "outputs": []
    }
  ]
}