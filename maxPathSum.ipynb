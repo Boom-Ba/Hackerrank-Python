{
  "nbformat": 4,
  "nbformat_minor": 0,
  "metadata": {
    "colab": {
      "name": "maxPathSum.ipynb",
      "provenance": [],
      "collapsed_sections": [],
      "authorship_tag": "ABX9TyOSphXYiJ80fku+G/JXfIl/",
      "include_colab_link": true
    },
    "kernelspec": {
      "name": "python3",
      "display_name": "Python 3"
    }
  },
  "cells": [
    {
      "cell_type": "markdown",
      "metadata": {
        "id": "view-in-github",
        "colab_type": "text"
      },
      "source": [
        "<a href=\"https://colab.research.google.com/github/Boom-Ba/Hackerrank-Python/blob/master/maxPathSum.ipynb\" target=\"_parent\"><img src=\"https://colab.research.google.com/assets/colab-badge.svg\" alt=\"Open In Colab\"/></a>"
      ]
    },
    {
      "cell_type": "code",
      "metadata": {
        "id": "BxtkWfV31X94",
        "colab_type": "code",
        "colab": {}
      },
      "source": [
        "# Definition for a binary tree node.\n",
        "# class TreeNode:\n",
        "#     def __init__(self, val=0, left=None, right=None):\n",
        "#         self.val = val\n",
        "#         self.left = left\n",
        "#         self.right = right\n",
        "class Solution:\n",
        "    def maxPathSum(self, root: TreeNode) -> int:\n",
        "        self.maxSum =-float('inf')\n",
        "        currSum =0\n",
        "        if not root:\n",
        "            return maxSum\n",
        "        \n",
        "        def dfs(root, currSum):\n",
        "            if not root:\n",
        "                return 0\n",
        "            if currSum< 0:\n",
        "                currSum =root.val\n",
        "            left= max(dfs(root.left, currSum),0)\n",
        "            right=max(dfs(root.right,currSum),0)\n",
        "            currSum = left+right+root.val\n",
        "            self.maxSum= max(currSum, self.maxSum)\n",
        "            return max(left,right)+root.val\n",
        "        dfs(root,currSum)\n",
        "        return self.maxSum\n",
        "        "
      ],
      "execution_count": null,
      "outputs": []
    }
  ]
}