{
  "nbformat": 4,
  "nbformat_minor": 0,
  "metadata": {
    "colab": {
      "name": "MaxSumLeaf2Leaf",
      "provenance": [],
      "collapsed_sections": [],
      "authorship_tag": "ABX9TyMz+eGO3vabEAmXVpLN/l1D",
      "include_colab_link": true
    },
    "kernelspec": {
      "name": "python3",
      "display_name": "Python 3"
    }
  },
  "cells": [
    {
      "cell_type": "markdown",
      "metadata": {
        "id": "view-in-github",
        "colab_type": "text"
      },
      "source": [
        "<a href=\"https://colab.research.google.com/github/Boom-Ba/Hackerrank-Python/blob/master/MaxSumLeaf2Leaf.ipynb\" target=\"_parent\"><img src=\"https://colab.research.google.com/assets/colab-badge.svg\" alt=\"Open In Colab\"/></a>"
      ]
    },
    {
      "cell_type": "code",
      "metadata": {
        "id": "TY1MWMOQSfn8"
      },
      "source": [
        "class Solution:\n",
        "  #get max sum from leaf to leaf\n",
        "  def leaf2leaf(self,root):\n",
        "    self.res =-2147483648\n",
        "    self.helper(root)\n",
        "    return self.res\n",
        "  def helper(self,root):\n",
        "    if not root:\n",
        "      return \n",
        "    if not root.left and not root.right:\n",
        "      return root.val\n",
        "    left= self.helper(root.left)\n",
        "    right= self.helper(root.right)\n",
        "    if root.left and root.right:\n",
        "      #only update at 2 children \n",
        "      self.res = max(self.res, root.val+left+right)\n",
        "      #return maxpathsum at left or right\n",
        "      return max(left,right)+root.val\n",
        "    else:\n",
        "      return root.val+left if not root.right else root.val+right\n",
        "\n"
      ],
      "execution_count": 12,
      "outputs": []
    },
    {
      "cell_type": "code",
      "metadata": {
        "id": "yPF0AR_znsuQ"
      },
      "source": [
        ""
      ],
      "execution_count": null,
      "outputs": []
    }
  ]
}