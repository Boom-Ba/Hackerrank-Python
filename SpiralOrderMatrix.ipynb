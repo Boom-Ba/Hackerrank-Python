{
  "nbformat": 4,
  "nbformat_minor": 0,
  "metadata": {
    "colab": {
      "name": "SpiralOrderMatrix",
      "provenance": [],
      "collapsed_sections": [],
      "authorship_tag": "ABX9TyOYrOcfA4F8Q8EX+nEjifEb",
      "include_colab_link": true
    },
    "kernelspec": {
      "name": "python3",
      "display_name": "Python 3"
    }
  },
  "cells": [
    {
      "cell_type": "markdown",
      "metadata": {
        "id": "view-in-github",
        "colab_type": "text"
      },
      "source": [
        "<a href=\"https://colab.research.google.com/github/Boom-Ba/Hackerrank-Python/blob/master/SpiralOrderMatrix.ipynb\" target=\"_parent\"><img src=\"https://colab.research.google.com/assets/colab-badge.svg\" alt=\"Open In Colab\"/></a>"
      ]
    },
    {
      "cell_type": "code",
      "metadata": {
        "id": "BxtkWfV31X94",
        "colab_type": "code",
        "colab": {}
      },
      "source": [
        "class Solution:\n",
        "    def spiralOrder(self, matrix: List[List[int]]) -> List[int]:\n",
        "        if not matrix:\n",
        "            return []\n",
        "        res =matrix[0] #1st row\n",
        "        matrix= [list(x) for x in zip(*matrix[1:])][::-1]\n",
        "        res+=self.spiralOrder(matrix)\n",
        "        return res\n",
        "        "
      ],
      "execution_count": null,
      "outputs": []
    }
  ]
}