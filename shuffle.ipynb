{
  "nbformat": 4,
  "nbformat_minor": 0,
  "metadata": {
    "colab": {
      "name": "Shuffle.ipynb",
      "provenance": [],
      "authorship_tag": "ABX9TyPq5QqDCNYTYKNbs3SqotNP",
      "include_colab_link": true
    },
    "kernelspec": {
      "name": "python3",
      "display_name": "Python 3"
    },
    "language_info": {
      "name": "python"
    }
  },
  "cells": [
    {
      "cell_type": "markdown",
      "metadata": {
        "id": "view-in-github",
        "colab_type": "text"
      },
      "source": [
        "<a href=\"https://colab.research.google.com/github/Boom-Ba/Hackerrank-Python/blob/master/Shuffle.ipynb\" target=\"_parent\"><img src=\"https://colab.research.google.com/assets/colab-badge.svg\" alt=\"Open In Colab\"/></a>"
      ]
    },
    {
      "cell_type": "code",
      "metadata": {
        "id": "mODl8W9Be475"
      },
      "source": [
        "class Solution:\n",
        "\n",
        "    def __init__(self, nums: List[int]):\n",
        "        self.nums =nums\n",
        "        self.copy =nums.copy()\n",
        "\n",
        "    def reset(self) -> List[int]:\n",
        "        return self.copy\n",
        "        \n",
        "    def shuffle(self) -> List[int]:\n",
        "        i=random.randint(0,len(self.nums)-1)\n",
        "        j=random.randint(0,len(self.nums)-1)\n",
        "        self.nums[i],self.nums[j]=self.nums[j],self.nums[i]\n",
        "        return self.nums\n",
        "\n",
        "\n",
        "# Your Solution object will be instantiated and called as such:\n",
        "# obj = Solution(nums)\n",
        "# param_1 = obj.reset()\n",
        "# param_2 = obj.shuffle()"
      ],
      "execution_count": null,
      "outputs": []
    }
  ]
}