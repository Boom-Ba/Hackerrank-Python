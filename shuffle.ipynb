{
  "nbformat": 4,
  "nbformat_minor": 0,
  "metadata": {
    "colab": {
      "name": "shuffle",
      "provenance": [],
      "authorship_tag": "ABX9TyNWqps0TLztnZONEofqjIXG",
      "include_colab_link": true
    },
    "kernelspec": {
      "name": "python3",
      "display_name": "Python 3"
    }
  },
  "cells": [
    {
      "cell_type": "markdown",
      "metadata": {
        "id": "view-in-github",
        "colab_type": "text"
      },
      "source": [
        "<a href=\"https://colab.research.google.com/github/Boom-Ba/Hackerrank-Python/blob/master/shuffle.ipynb\" target=\"_parent\"><img src=\"https://colab.research.google.com/assets/colab-badge.svg\" alt=\"Open In Colab\"/></a>"
      ]
    },
    {
      "cell_type": "code",
      "metadata": {
        "id": "Q9iYlpC-zU9_",
        "colab_type": "code",
        "colab": {}
      },
      "source": [
        "import random\n",
        "def shuffle(deck):\n",
        "  for i in range(len(deck)-1,-1,-1):\n",
        "    random_num = random.randint(0,i)\n",
        "    deck[i],deck[random_num]=deck[random_num],deck[i]\n",
        "  return deck"
      ],
      "execution_count": 1,
      "outputs": []
    },
    {
      "cell_type": "code",
      "metadata": {
        "id": "Tw9OLJ7F0G1v",
        "colab_type": "code",
        "colab": {
          "base_uri": "https://localhost:8080/",
          "height": 34
        },
        "outputId": "c2aa008a-c776-4f08-d44b-10ddad58f07c"
      },
      "source": [
        "list = [1, 2, 3, 4, 5, 6, 7, 8, 9, 10]  \n",
        "slice = random.sample(list, 5)\n",
        "print(slice)"
      ],
      "execution_count": 4,
      "outputs": [
        {
          "output_type": "stream",
          "text": [
            "[7, 9, 3, 5, 6]\n"
          ],
          "name": "stdout"
        }
      ]
    }
  ]
}